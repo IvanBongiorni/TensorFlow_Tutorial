{
  "nbformat": 4,
  "nbformat_minor": 0,
  "metadata": {
    "colab": {
      "name": "TensorFlow_2_Classification_MiniBatchGD.ipynb",
      "version": "0.3.2",
      "provenance": [],
      "collapsed_sections": [],
      "toc_visible": true
    },
    "kernelspec": {
      "name": "python3",
      "display_name": "Python 3"
    },
    "accelerator": "GPU"
  },
  "cells": [
    {
      "metadata": {
        "id": "jdFGdXW_0c_X",
        "colab_type": "text"
      },
      "cell_type": "markdown",
      "source": [
        "# TensorFlow Tutorial: Neural Network for Classification with Mini-Batch Gradient Descent.\n",
        "\n",
        "### Author: Ivan Bongiorni, Data Scientist at GfK.\n",
        "\n",
        "[LinkedIn profile](https://www.linkedin.com/in/ivan-bongiorni-b8a583164/), personal email: ivanbongiorni@gmail.com\n",
        "\n",
        "\n"
      ]
    },
    {
      "metadata": {
        "id": "C942ZvxA0TcU",
        "colab_type": "text"
      },
      "cell_type": "markdown",
      "source": [
        "In [the first notebook](https://github.com/IvanBongiorni/TensorFlow_Tutorial/blob/master/TensorFlow_1_Classification_BatchGD.ipynb) of this [TensorFlow tutorial series](https://github.com/IvanBongiorni/TensorFlow_Tutorial), I showed how to implement a \"simple\" feed-forward Neural Network for classification. This one can be seen as the **Mini-Batch Gradient Descent version** of the previous."
      ]
    },
    {
      "metadata": {
        "id": "CiCwmEFVIfXL",
        "colab_type": "text"
      },
      "cell_type": "markdown",
      "source": [
        "This model is a **Neural Network for Classification** based on the University of Wisconsin's **breast cancer dataset**.\n",
        "\n",
        "It represents a tutorial on basic **TensorFlow**."
      ]
    },
    {
      "metadata": {
        "id": "fsiBsNs81F_U",
        "colab_type": "text"
      },
      "cell_type": "markdown",
      "source": [
        "## First of all: WHY Mini-Batch Gradient Descent?\n",
        "\n",
        "Mini-Batch Gradient Descent is of fundamental importance for Machine Learning in general, and Deep Learning in particular.\n",
        "\n",
        "**It consists in feeding, at each iteration of the Gradient Descent, only a subset of (i.e.: a mini-batch) of the training data. At each iteration, mini-batch gradient descent will take a different mini-batch of data, and train just on that one.**\n",
        "\n",
        "This technique presents at least three advantages:\n",
        "\n",
        "1. It prevents the optimization algorithm to end up stuck into some local optima of the loss function.\n",
        "\n",
        "2. It allows for **a significant drop in computational times**. That is because the optimizer trains the network just on a mini-batch of data, requiring much less computational effort. Often Data Scientists are dealing with massive amounts of data, and training a model on the whole train dataset at each epoch might require prohibitive computational times. That is why, for very large, datasets, Mini-Batch Gradient Descent becomes a necessary tool.\n",
        "\n",
        "3. It is the mandatory technique for [online learning](https://en.wikipedia.org/wiki/Online_machine_learning)."
      ]
    },
    {
      "metadata": {
        "id": "FmGeevua2Jzf",
        "colab_type": "text"
      },
      "cell_type": "markdown",
      "source": [
        "## Import data from UCI ML repository\n",
        "\n",
        "The purpose of this dataset is to classify breast cancer cases between **malignant** (**M**), and **benign** (**B**). Therefore, my classification network will have two output nodes."
      ]
    },
    {
      "metadata": {
        "id": "6cb_bMog8kXc",
        "colab_type": "code",
        "colab": {}
      },
      "cell_type": "code",
      "source": [
        "import tensorflow as tf\n",
        "import pandas as pd\n",
        "import numpy as np\n",
        "import matplotlib.pyplot as plt\n",
        "\n",
        "\n",
        "bc_dat = pd.read_csv(\"https://archive.ics.uci.edu/ml/machine-learning-databases/breast-cancer-wisconsin/wdbc.data\", sep=\",\", header=None)"
      ],
      "execution_count": 0,
      "outputs": []
    },
    {
      "metadata": {
        "id": "HTXgNVxD2VYp",
        "colab_type": "text"
      },
      "cell_type": "markdown",
      "source": [
        "## Some (vey basic) Dataprep\n",
        "\n",
        "Dataprep is very quick for this toy dataset. I separate explanatory variables (**matrix of independent variables IVs**) and the vector of the **dependent variable** (**DV**) that contains the target categories, and then perform **One-Hot Encoding** (required for classification tasks) on this one. Finally, turn the data into numpy arrays."
      ]
    },
    {
      "metadata": {
        "id": "8MZswZsz2POl",
        "colab_type": "code",
        "colab": {}
      },
      "cell_type": "code",
      "source": [
        "# The first column is a simple id - and must be discarded\n",
        "# \n",
        "\n",
        "IVs = bc_dat.iloc[:,2:31]\n",
        "\n",
        "DV = bc_dat.iloc[:,1]\n",
        "\n",
        "DV = pd.get_dummies(DV)  # One-Hot Encoding\n",
        "\n",
        "# Turn the data into numpy objects\n",
        "IVs = IVs.values\n",
        "DV = DV.values\n"
      ],
      "execution_count": 0,
      "outputs": []
    },
    {
      "metadata": {
        "id": "bEa-doAszgAn",
        "colab_type": "text"
      },
      "cell_type": "markdown",
      "source": [
        "Explanatory variables require normalization, in order to improve the efficiency of the network and avoid imbalance between different weights."
      ]
    },
    {
      "metadata": {
        "id": "na1-bLe4476t",
        "colab_type": "text"
      },
      "cell_type": "markdown",
      "source": [
        "## Train-Test split\n",
        "\n",
        "In an actual ML job, you would split your dataset in **Train**, **Test**, and **Validation sets**. However, this is just an example on how to implement and run a Neural Network, so I'll skip that part and will split the data in train and test only."
      ]
    },
    {
      "metadata": {
        "id": "W8V-cHX21C_R",
        "colab_type": "code",
        "outputId": "73d8d2e7-63dd-4460-9edd-bd20fd72a6cb",
        "colab": {
          "base_uri": "https://localhost:8080/",
          "height": 54
        }
      },
      "cell_type": "code",
      "source": [
        "from sklearn.model_selection import train_test_split\n",
        "\n",
        "X_train, X_test, y_train, y_test = train_test_split(IVs, DV, test_size=0.25, random_state=173)\n",
        "\n",
        "print(X_train.shape, y_train.shape)\n",
        "print(X_test.shape, y_test.shape)"
      ],
      "execution_count": 3,
      "outputs": [
        {
          "output_type": "stream",
          "text": [
            "(426, 29) (426, 2)\n",
            "(143, 29) (143, 2)\n"
          ],
          "name": "stdout"
        }
      ]
    },
    {
      "metadata": {
        "id": "_US9T10bMPOA",
        "colab_type": "code",
        "colab": {}
      },
      "cell_type": "code",
      "source": [
        "# Scale the variables using Z-scores\n",
        "\n",
        "from sklearn.preprocessing import StandardScaler\n",
        "\n",
        "scaler = StandardScaler()  # generate a scaler object\n",
        "\n",
        "X_train = scaler.fit_transform(X_train) # the scaler object learns the mean and std of X_train\n",
        "\n",
        "X_test = scaler.transform(X_test) # and scales X_test as well using the parameters of X_train"
      ],
      "execution_count": 0,
      "outputs": []
    },
    {
      "metadata": {
        "id": "ixixVy6OHfgs",
        "colab_type": "text"
      },
      "cell_type": "markdown",
      "source": [
        "# Architecture\n",
        "\n",
        "In order to implement Mini-Batch learning, I need to write a function that, at each epoch, takes single mini-batches from the training dataset, and fetches them into the network.\n",
        "This requires the data to be shuffled, since we want the Mini-Batch sampling to be perfectly random."
      ]
    },
    {
      "metadata": {
        "id": "7PAeHtms6ziJ",
        "colab_type": "code",
        "colab": {}
      },
      "cell_type": "code",
      "source": [
        "# Shuffle the data\n",
        "from sklearn.utils import shuffle\n",
        "X_train, y_train = shuffle(X_train, y_train, random_state=123)   # reshuffle is done just the train set, the test must always be evaluated as a whole\n",
        "\n",
        "\n",
        "def fetch_batch(X, y, epoch):\n",
        "    '''\n",
        "    Extracts mini-batches of given size from a dataset - different for each epoch\n",
        "    Returns the train Mini-Batch and the corresponding test Mini-Batch\n",
        "    '''\n",
        "    X_batch = X[epoch*batch_size:epoch*batch_size+batch_size, :]    \n",
        "    y_batch = y[epoch*batch_size:epoch*batch_size+batch_size, :]\n",
        "    \n",
        "    return X_batch, y_batch"
      ],
      "execution_count": 0,
      "outputs": []
    },
    {
      "metadata": {
        "id": "cZajSg6G-c8p",
        "colab_type": "text"
      },
      "cell_type": "markdown",
      "source": [
        "The number of epochs depends from the size of the Mini-Batches (chosen by the analyst). In this case I am working with a toy dataset (for educational purpose), therefore the number of epochs is very small, compared to real-working life problems."
      ]
    },
    {
      "metadata": {
        "id": "4v5_z3CM-4AG",
        "colab_type": "code",
        "outputId": "abf76673-0573-40a8-f5e4-3627eeab5ed1",
        "colab": {
          "base_uri": "https://localhost:8080/",
          "height": 35
        }
      },
      "cell_type": "code",
      "source": [
        "batch_size = 20    # I choose Mini-Batches to be 20 rows long - I can't make them smaller than this :)\n",
        "\n",
        "n_epochs = X_train.shape[0] // batch_size   # Set the number of epochs on the basis of the size of the Mini-Batches \n",
        "\n",
        "# display the number of epochs\n",
        "n_epochs"
      ],
      "execution_count": 6,
      "outputs": [
        {
          "output_type": "execute_result",
          "data": {
            "text/plain": [
              "21"
            ]
          },
          "metadata": {
            "tags": []
          },
          "execution_count": 6
        }
      ]
    },
    {
      "metadata": {
        "id": "b9bQ6J9J60Xz",
        "colab_type": "text"
      },
      "cell_type": "markdown",
      "source": [
        "Since the network is not very deep, and the number of parameters is relatively small, I can employ more \"demanding\" (and performing) activation functions. In this case, I choose **Leaky ReLU** for hidden layers. A **softmax** function is then applied at the end, so that the attribution of classes (M/B) is shrink into probabilities.\n",
        "\n",
        "I also applied **dropout**, that helps prevent overfitting; and **Batch normalization**, that prevents the problem of vanishing/expoloding gradients."
      ]
    },
    {
      "metadata": {
        "id": "Rah6V2pW8qa5",
        "colab_type": "code",
        "colab": {}
      },
      "cell_type": "code",
      "source": [
        "# The fully_connected function generates the layers of Neural Networks\n",
        "from tensorflow.contrib.layers import fully_connected, batch_norm\n",
        "\n",
        "# I choose the size of each layer\n",
        "n_inputs = X_train.shape[1]\n",
        "n_hidden1 = 30\n",
        "n_hidden2 = 30\n",
        "n_hidden3 = 15\n",
        "n_hidden4 = 15\n",
        "n_outputs = 2   # Number of outputs: \"Malignant\" or \"Benign\"\n",
        "\n",
        "dropout_probability = 0.1\n",
        "\n",
        "# Placeholders are kind of \"empty variables\" in a TF computational graph.\n",
        "# I will feed the actual data through them - in the graph, they are like entry doors for my data\n",
        "X = tf.placeholder(tf.float32, shape=(None, n_inputs), name=\"X\")\n",
        "y = tf.placeholder(tf.float32, shape=(None, n_outputs), name=\"y\")\n",
        "\n",
        "\n",
        "hidden1 = fully_connected(X, n_hidden1, activation_fn=tf.nn.leaky_relu, normalizer_fn=batch_norm, scope=\"hidden1\")\n",
        "hidden1 = tf.layers.dropout(hidden1, rate=dropout_probability)\n",
        "\n",
        "hidden2 = fully_connected(hidden1, n_hidden2, activation_fn=tf.nn.leaky_relu, normalizer_fn=batch_norm, scope=\"hidden2\")\n",
        "hidden2 = tf.layers.dropout(hidden2, rate=dropout_probability)\n",
        "\n",
        "hidden3 = fully_connected(hidden2, n_hidden3, activation_fn=tf.nn.leaky_relu, normalizer_fn=batch_norm, scope=\"hidden3\")\n",
        "hidden3 = tf.layers.dropout(hidden3, rate=dropout_probability)\n",
        "\n",
        "hidden4 = fully_connected(hidden3, n_hidden4, activation_fn=tf.nn.leaky_relu, normalizer_fn=batch_norm, scope=\"hidden4\")\n",
        "hidden4 = tf.layers.dropout(hidden4, rate=dropout_probability)\n",
        "\n",
        "# this is the output layer - I choose a softmax function that shrinks everything into probabilities\n",
        "classes = fully_connected(hidden3, n_outputs, activation_fn=tf.nn.softmax, scope=\"outputs\")\n"
      ],
      "execution_count": 0,
      "outputs": []
    },
    {
      "metadata": {
        "id": "rbjnKz1S8yNh",
        "colab_type": "code",
        "colab": {}
      },
      "cell_type": "code",
      "source": [
        "# Define a loss function - softmax cross entropy is very common for classification tasks\n",
        "loss = tf.reduce_mean(tf.nn.softmax_cross_entropy_with_logits_v2(labels=y, logits=classes))\n",
        "\n",
        "\n",
        "# this node of the TF graph performs the actual training process\n",
        "training_op = tf.train.AdamOptimizer(learning_rate = 0.001).minimize(loss)\n",
        "\n",
        "# I define also a measure of accuracy - so that I can monitor how it changes \n",
        "correct = tf.equal(tf.argmax(classes, 1), tf.argmax(y, 1))\n",
        "accuracy = tf.reduce_mean(tf.cast(correct, tf.float32))\n"
      ],
      "execution_count": 0,
      "outputs": []
    },
    {
      "metadata": {
        "id": "yKLFel2f99bW",
        "colab_type": "code",
        "colab": {}
      },
      "cell_type": "code",
      "source": [
        "# I first set a saver, in order to save the model\n",
        "saver = tf.train.Saver()\n",
        "\n",
        "# I want to save loss, train and test accuracy at each epoch\n",
        "loss_train_history = []\n",
        "loss_test_history = []\n",
        "accuracy_train_history = []\n",
        "accuracy_test_history = []"
      ],
      "execution_count": 0,
      "outputs": []
    },
    {
      "metadata": {
        "id": "RkGseeqn6pmq",
        "colab_type": "text"
      },
      "cell_type": "markdown",
      "source": [
        "## Implementation of Batch Gradient Descent\n",
        "\n",
        "\n"
      ]
    },
    {
      "metadata": {
        "id": "vmFNdatO7WKf",
        "colab_type": "code",
        "outputId": "7a282bf9-33c1-481e-fd4c-b728f051a41e",
        "colab": {
          "base_uri": "https://localhost:8080/",
          "height": 438
        }
      },
      "cell_type": "code",
      "source": [
        "\n",
        "# I now open a TensorFlow session, in order to execute the computational graph\n",
        "\n",
        "with tf.Session() as sess:\n",
        "    \n",
        "    # the the beginning of each execution, you must initialize all variables in the computational graph\n",
        "    sess.run(tf.global_variables_initializer())   # if the computational graph was a motor, this would turn it on\n",
        "    \n",
        "    \n",
        "    for epoch in range(n_epochs):\n",
        "        \n",
        "        X_batch, y_batch = fetch_batch(X_train, y_train, epoch)  # selects the current Mini-Batch\n",
        "        \n",
        "        # this is the training. I feed my train data to optimize the loss function\n",
        "        sess.run(training_op, feed_dict={X: X_batch, y: y_batch})   # and I feed the Mini-Batches, instead of the whole Batch !\n",
        "        \n",
        "        # then save loss, train and test accuracy\n",
        "        # each accuracy/loss requires train/test data for its computation\n",
        "        loss_train = loss.eval(feed_dict={X: X_batch, y: y_batch})\n",
        "        loss_test = loss.eval(feed_dict={X: X_test, y: y_test})\n",
        "        accuracy_train = accuracy.eval(feed_dict={X: X_batch, y: y_batch})\n",
        "        accuracy_test = accuracy.eval(feed_dict={X: X_test, y: y_test})\n",
        "        \n",
        "        # then add them to the series\n",
        "        loss_train_history.append(loss_train)\n",
        "        loss_test_history.append(loss_test)\n",
        "        accuracy_train_history.append(accuracy_train)\n",
        "        accuracy_test_history.append(accuracy_test)\n",
        "        \n",
        "        # Print the losses and monitor the training process in real time\n",
        "        print(str(epoch+1) + \". Train accuracy: \" + str(accuracy_train) + \"; Test accuracy: \" + str(accuracy_test) + \",\")\n",
        "        \n",
        "        \n",
        "        # In case the training takes very long, you want to save the model periodically, so you don't run the risk to loose your progress\n",
        "        if epoch % 100 == 0:\n",
        "            saver.save(sess, \"TF_classification_minibatch.ckpt\")   # the \"./\" means \"in the current directory\" - classification.ckpt is my TF model\n",
        "    \n",
        "    # At the very end, I save the model:\n",
        "    saver.save(sess, \"TF_classification_minibatch.ckpt\")\n",
        "    \n",
        "    # and I store the predictions for the test set in an object:\n",
        "    prediction = classes.eval(feed_dict={X: X_test, y: y_test})  # I use classes, because that's the output of the Network\n",
        "    \n",
        "    print()\n",
        "    print(\"Training complete.\")\n",
        "#"
      ],
      "execution_count": 10,
      "outputs": [
        {
          "output_type": "stream",
          "text": [
            "1. Train accuracy: 0.65; Test accuracy: 0.72727275,\n",
            "2. Train accuracy: 0.55; Test accuracy: 0.7762238,\n",
            "3. Train accuracy: 0.8; Test accuracy: 0.7902098,\n",
            "4. Train accuracy: 0.85; Test accuracy: 0.8041958,\n",
            "5. Train accuracy: 0.85; Test accuracy: 0.8111888,\n",
            "6. Train accuracy: 0.9; Test accuracy: 0.8321678,\n",
            "7. Train accuracy: 0.85; Test accuracy: 0.84615386,\n",
            "8. Train accuracy: 0.8; Test accuracy: 0.85314685,\n",
            "9. Train accuracy: 0.7; Test accuracy: 0.86013985,\n",
            "10. Train accuracy: 0.95; Test accuracy: 0.8741259,\n",
            "11. Train accuracy: 0.8; Test accuracy: 0.8811189,\n",
            "12. Train accuracy: 0.95; Test accuracy: 0.8811189,\n",
            "13. Train accuracy: 0.8; Test accuracy: 0.8811189,\n",
            "14. Train accuracy: 0.9; Test accuracy: 0.8811189,\n",
            "15. Train accuracy: 0.85; Test accuracy: 0.8951049,\n",
            "16. Train accuracy: 0.8; Test accuracy: 0.8951049,\n",
            "17. Train accuracy: 0.95; Test accuracy: 0.8951049,\n",
            "18. Train accuracy: 0.85; Test accuracy: 0.8951049,\n",
            "19. Train accuracy: 0.95; Test accuracy: 0.9020979,\n",
            "20. Train accuracy: 0.95; Test accuracy: 0.9020979,\n",
            "21. Train accuracy: 0.9; Test accuracy: 0.90909094,\n",
            "\n",
            "Training complete.\n"
          ],
          "name": "stdout"
        }
      ]
    },
    {
      "metadata": {
        "id": "sZ30S7lTPgKq",
        "colab_type": "text"
      },
      "cell_type": "markdown",
      "source": [
        "**( IMPORTANT CLARIFICATION**: *In this notebook I saved, at the end of the training process, the model's predictions of the Network on the test set in a specific object (prediction). This is done for educational purposes only, but it's not a good practice for Data Scientists. In a following notebook, I will show how to **restore a model** and use it for prediction after the training is done.* )"
      ]
    },
    {
      "metadata": {
        "id": "fwL6PbMwN4GV",
        "colab_type": "text"
      },
      "cell_type": "markdown",
      "source": [
        "## Check performance visually"
      ]
    },
    {
      "metadata": {
        "id": "oRuUyW_yESzz",
        "colab_type": "code",
        "outputId": "98743a88-f2e9-444d-ed91-00cbc5875810",
        "colab": {
          "base_uri": "https://localhost:8080/",
          "height": 362
        }
      },
      "cell_type": "code",
      "source": [
        "plt.plot(loss_train_history, label='Train loss')\n",
        "plt.plot(loss_test_history, label='Test loss')\n",
        "plt.title('Train and Test loss - Mini-Batch Gradient Descent')\n",
        "plt.legend()\n",
        "plt.show()"
      ],
      "execution_count": 11,
      "outputs": [
        {
          "output_type": "display_data",
          "data": {
            "image/png": "[encoded data removed]",
            "text/plain": [
              "<Figure size 576x396 with 1 Axes>"
            ]
          },
          "metadata": {
            "tags": []
          }
        }
      ]
    },
    {
      "metadata": {
        "id": "NfibKr7-Gpb4",
        "colab_type": "text"
      },
      "cell_type": "markdown",
      "source": [
        "What can we infer from the Loss and Accuracy plots?\n",
        "\n",
        "First of all, these results must not be taken too seriously: the breast cancer dataset is a very small toy dataset that I employed for educational purposes only. The performance of the model is not particularly interesting, since the whole training was repeated over just 21 epochs and on Mini-Batches of size 20. The goal of the present tutorial was just to show how Mini-Batch Gradient Descent can be implemented.\n",
        "\n",
        "An interesting thing to note is the difference between Train and Test histories: while the Test series look smooth, the Train series are significantly more \"noisy\". This is the effect of Mini-Batch fetching: the random sampling of a Mini-Batch introduces *stochasticity* in the learning process. This is perfectly fine: the Train series of loss and accuracy look always noisier when using this sort of technique. This does not imply bad performances! Instead, on very large datasets Mini-Batch Gradient Descent algorithms usually outperform their full-Batch counterparts (and that's why I strongly suggest to use them)."
      ]
    },
    {
      "metadata": {
        "id": "HSXIxbrZEA7-",
        "colab_type": "code",
        "outputId": "ede7988d-f275-4d1c-f9ca-0aca466b93ab",
        "colab": {
          "base_uri": "https://localhost:8080/",
          "height": 362
        }
      },
      "cell_type": "code",
      "source": [
        "plt.plot(accuracy_train_history, label='Train accuracy')\n",
        "plt.plot(accuracy_test_history, label='Test accuracy')\n",
        "plt.title('Train and Test accuracy - Mini-Batch Gradient Descent')\n",
        "plt.legend()\n",
        "plt.show()"
      ],
      "execution_count": 12,
      "outputs": [
        {
          "output_type": "display_data",
          "data": {
            "image/png": "[encoded data removed]",
            "text/plain": [
              "<Figure size 576x396 with 1 Axes>"
            ]
          },
          "metadata": {
            "tags": []
          }
        }
      ]
    },
    {
      "metadata": {
        "id": "4WNpYCjuJ2lW",
        "colab_type": "text"
      },
      "cell_type": "markdown",
      "source": [
        "Now I'd like to check a Confusion Matrix:\n"
      ]
    },
    {
      "metadata": {
        "id": "wA0OYxBPOF3S",
        "colab_type": "code",
        "outputId": "ec82d5dc-e00e-4129-b423-d7e96795c83b",
        "colab": {
          "base_uri": "https://localhost:8080/",
          "height": 54
        }
      },
      "cell_type": "code",
      "source": [
        "# I transform the predictions of the Network in discrete probabilities\n",
        "# that is because my prediction object contains float data. Instead, I need discrete [0 or 1] values for classification\n",
        "# There are several ways, this is just one of the many\n",
        "discrete_prediction = prediction\n",
        "\n",
        "discrete_prediction = np.argmax(prediction, axis=1)   # this outputs a vector with the value of the class with the highest predicted probability [0 or 1]\n",
        "discrete_testdata = np.argmax(y_test, axis=1)    # so I do it also for the test data\n",
        "\n",
        "# plot the confusion matrix\n",
        "from sklearn.metrics import confusion_matrix\n",
        "\n",
        "CM = confusion_matrix(discrete_prediction, discrete_testdata)\n",
        "print(CM)"
      ],
      "execution_count": 13,
      "outputs": [
        {
          "output_type": "stream",
          "text": [
            "[[86 10]\n",
            " [ 3 44]]\n"
          ],
          "name": "stdout"
        }
      ]
    },
    {
      "metadata": {
        "id": "JzalO-eIOUpn",
        "colab_type": "text"
      },
      "cell_type": "markdown",
      "source": [
        "The outcome of the Confusion Matrix seems very good. Most of the cases are on the have been classified correctly, i.e.: they are on the diagonal.\n",
        "\n",
        "We can also plot it as a heatmap, which can be very useful in case you are working with a high number of classes."
      ]
    },
    {
      "metadata": {
        "id": "O7vmy4Y6Od_o",
        "colab_type": "code",
        "outputId": "4b6853fb-ad91-425e-e93f-1757cfde9634",
        "colab": {
          "base_uri": "https://localhost:8080/",
          "height": 365
        }
      },
      "cell_type": "code",
      "source": [
        "import seaborn\n",
        "\n",
        "seaborn.heatmap(CM, annot=True)"
      ],
      "execution_count": 14,
      "outputs": [
        {
          "output_type": "execute_result",
          "data": {
            "text/plain": [
              "<matplotlib.axes._subplots.AxesSubplot at 0x7fe8104e77f0>"
            ]
          },
          "metadata": {
            "tags": []
          },
          "execution_count": 14
        },
        {
          "output_type": "display_data",
          "data": {
            "image/png": "[encoded data removed]",
            "text/plain": [
              "<Figure size 576x396 with 2 Axes>"
            ]
          },
          "metadata": {
            "tags": []
          }
        }
      ]
    }
  ]
}