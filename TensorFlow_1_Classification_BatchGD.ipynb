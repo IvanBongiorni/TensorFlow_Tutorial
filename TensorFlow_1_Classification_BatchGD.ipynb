{
  "nbformat": 4,
  "nbformat_minor": 0,
  "metadata": {
    "colab": {
      "name": "TensorFlow_1_Classification_BatchGD.ipynb",
      "version": "0.3.2",
      "provenance": [],
      "collapsed_sections": [],
      "toc_visible": true
    },
    "kernelspec": {
      "name": "python3",
      "display_name": "Python 3"
    },
    "accelerator": "GPU"
  },
  "cells": [
    {
      "metadata": {
        "id": "jdFGdXW_0c_X",
        "colab_type": "text"
      },
      "cell_type": "markdown",
      "source": [
        "# TensorFlow Tutorial: Neural Network for Classification.\n",
        "\n",
        "### Author: Ivan Bongiorni, Data Scientist at GfK.\n",
        "\n",
        "[LinkedIn profile](https://www.linkedin.com/in/ivan-bongiorni-b8a583164/), personal email: ivanbongiorni@gmail.com\n",
        "\n",
        "\n"
      ]
    },
    {
      "metadata": {
        "id": "CiCwmEFVIfXL",
        "colab_type": "text"
      },
      "cell_type": "markdown",
      "source": [
        "This model is a **Neural Network for Classification** based on the University of Wisconsin's **breast cancer dataset**.\n",
        "\n",
        "It represents a tutorial on basic **TensorFlow**.\n",
        "\n",
        "Arguments:\n",
        "1.   Download of the dataset and Dataprep,\n",
        "2.   Implementation of a \"simple\" **feed-forward Neural Network for classification** in plain **TensorFlow**,\n",
        "3.   Implementation of a **simple Batch Gradient Descent** optimization algorithm - with **dropout** and **batch normalization** as regularization techniques,\n",
        "4.   Check of results using data-visualization and a Confusion Matrix."
      ]
    },
    {
      "metadata": {
        "id": "FmGeevua2Jzf",
        "colab_type": "text"
      },
      "cell_type": "markdown",
      "source": [
        "## Import data from UCI ML repository\n",
        "\n",
        "The purpose of this dataset is to classify breast cancer cases between **malignant** (**M**), and **benign** (**B**). Therefore, my classification network will have two output nodes."
      ]
    },
    {
      "metadata": {
        "id": "6cb_bMog8kXc",
        "colab_type": "code",
        "colab": {}
      },
      "cell_type": "code",
      "source": [
        "import tensorflow as tf\n",
        "import pandas as pd\n",
        "import numpy as np\n",
        "import matplotlib.pyplot as plt\n",
        "\n",
        "\n",
        "bc_dat = pd.read_csv(\"https://archive.ics.uci.edu/ml/machine-learning-databases/breast-cancer-wisconsin/wdbc.data\", sep=\",\", header=None)"
      ],
      "execution_count": 0,
      "outputs": []
    },
    {
      "metadata": {
        "id": "HTXgNVxD2VYp",
        "colab_type": "text"
      },
      "cell_type": "markdown",
      "source": [
        "## Some (vey basic) Dataprep"
      ]
    },
    {
      "metadata": {
        "id": "QcevSCqu385u",
        "colab_type": "code",
        "outputId": "f2c1cea7-f162-41c1-eece-117e377a0934",
        "colab": {
          "base_uri": "https://localhost:8080/",
          "height": 34
        }
      },
      "cell_type": "code",
      "source": [
        "# First take a look at the data\n",
        "bc_dat.shape"
      ],
      "execution_count": 0,
      "outputs": [
        {
          "output_type": "execute_result",
          "data": {
            "text/plain": [
              "(569, 32)"
            ]
          },
          "metadata": {
            "tags": []
          },
          "execution_count": 2
        }
      ]
    },
    {
      "metadata": {
        "id": "C2MtcQoJ21L5",
        "colab_type": "code",
        "outputId": "b157e181-1545-4c77-f513-a677709eba4a",
        "colab": {
          "base_uri": "https://localhost:8080/",
          "height": 304
        }
      },
      "cell_type": "code",
      "source": [
        "pd.set_option('display.max_columns', None)  # this command makes pandas show all the columns\n",
        "\n",
        "bc_dat.describe()  # columns 1 is not present, since it's not numeric"
      ],
      "execution_count": 0,
      "outputs": [
        {
          "output_type": "execute_result",
          "data": {
            "text/html": [
              "<div>\n",
              "<style scoped>\n",
              "    .dataframe tbody tr th:only-of-type {\n",
              "        vertical-align: middle;\n",
              "    }\n",
              "\n",
              "    .dataframe tbody tr th {\n",
              "        vertical-align: top;\n",
              "    }\n",
              "\n",
              "    .dataframe thead th {\n",
              "        text-align: right;\n",
              "    }\n",
              "</style>\n",
              "<table border=\"1\" class=\"dataframe\">\n",
              "  <thead>\n",
              "    <tr style=\"text-align: right;\">\n",
              "      <th></th>\n",
              "      <th>0</th>\n",
              "      <th>2</th>\n",
              "      <th>3</th>\n",
              "      <th>4</th>\n",
              "      <th>5</th>\n",
              "      <th>6</th>\n",
              "      <th>7</th>\n",
              "      <th>8</th>\n",
              "      <th>9</th>\n",
              "      <th>10</th>\n",
              "      <th>11</th>\n",
              "      <th>12</th>\n",
              "      <th>13</th>\n",
              "      <th>14</th>\n",
              "      <th>15</th>\n",
              "      <th>16</th>\n",
              "      <th>17</th>\n",
              "      <th>18</th>\n",
              "      <th>19</th>\n",
              "      <th>20</th>\n",
              "      <th>21</th>\n",
              "      <th>22</th>\n",
              "      <th>23</th>\n",
              "      <th>24</th>\n",
              "      <th>25</th>\n",
              "      <th>26</th>\n",
              "      <th>27</th>\n",
              "      <th>28</th>\n",
              "      <th>29</th>\n",
              "      <th>30</th>\n",
              "      <th>31</th>\n",
              "    </tr>\n",
              "  </thead>\n",
              "  <tbody>\n",
              "    <tr>\n",
              "      <th>count</th>\n",
              "      <td>5.690000e+02</td>\n",
              "      <td>569.000000</td>\n",
              "      <td>569.000000</td>\n",
              "      <td>569.000000</td>\n",
              "      <td>569.000000</td>\n",
              "      <td>569.000000</td>\n",
              "      <td>569.000000</td>\n",
              "      <td>569.000000</td>\n",
              "      <td>569.000000</td>\n",
              "      <td>569.000000</td>\n",
              "      <td>569.000000</td>\n",
              "      <td>569.000000</td>\n",
              "      <td>569.000000</td>\n",
              "      <td>569.000000</td>\n",
              "      <td>569.000000</td>\n",
              "      <td>569.000000</td>\n",
              "      <td>569.000000</td>\n",
              "      <td>569.000000</td>\n",
              "      <td>569.000000</td>\n",
              "      <td>569.000000</td>\n",
              "      <td>569.000000</td>\n",
              "      <td>569.000000</td>\n",
              "      <td>569.000000</td>\n",
              "      <td>569.000000</td>\n",
              "      <td>569.000000</td>\n",
              "      <td>569.000000</td>\n",
              "      <td>569.000000</td>\n",
              "      <td>569.000000</td>\n",
              "      <td>569.000000</td>\n",
              "      <td>569.000000</td>\n",
              "      <td>569.000000</td>\n",
              "    </tr>\n",
              "    <tr>\n",
              "      <th>mean</th>\n",
              "      <td>3.037183e+07</td>\n",
              "      <td>14.127292</td>\n",
              "      <td>19.289649</td>\n",
              "      <td>91.969033</td>\n",
              "      <td>654.889104</td>\n",
              "      <td>0.096360</td>\n",
              "      <td>0.104341</td>\n",
              "      <td>0.088799</td>\n",
              "      <td>0.048919</td>\n",
              "      <td>0.181162</td>\n",
              "      <td>0.062798</td>\n",
              "      <td>0.405172</td>\n",
              "      <td>1.216853</td>\n",
              "      <td>2.866059</td>\n",
              "      <td>40.337079</td>\n",
              "      <td>0.007041</td>\n",
              "      <td>0.025478</td>\n",
              "      <td>0.031894</td>\n",
              "      <td>0.011796</td>\n",
              "      <td>0.020542</td>\n",
              "      <td>0.003795</td>\n",
              "      <td>16.269190</td>\n",
              "      <td>25.677223</td>\n",
              "      <td>107.261213</td>\n",
              "      <td>880.583128</td>\n",
              "      <td>0.132369</td>\n",
              "      <td>0.254265</td>\n",
              "      <td>0.272188</td>\n",
              "      <td>0.114606</td>\n",
              "      <td>0.290076</td>\n",
              "      <td>0.083946</td>\n",
              "    </tr>\n",
              "    <tr>\n",
              "      <th>std</th>\n",
              "      <td>1.250206e+08</td>\n",
              "      <td>3.524049</td>\n",
              "      <td>4.301036</td>\n",
              "      <td>24.298981</td>\n",
              "      <td>351.914129</td>\n",
              "      <td>0.014064</td>\n",
              "      <td>0.052813</td>\n",
              "      <td>0.079720</td>\n",
              "      <td>0.038803</td>\n",
              "      <td>0.027414</td>\n",
              "      <td>0.007060</td>\n",
              "      <td>0.277313</td>\n",
              "      <td>0.551648</td>\n",
              "      <td>2.021855</td>\n",
              "      <td>45.491006</td>\n",
              "      <td>0.003003</td>\n",
              "      <td>0.017908</td>\n",
              "      <td>0.030186</td>\n",
              "      <td>0.006170</td>\n",
              "      <td>0.008266</td>\n",
              "      <td>0.002646</td>\n",
              "      <td>4.833242</td>\n",
              "      <td>6.146258</td>\n",
              "      <td>33.602542</td>\n",
              "      <td>569.356993</td>\n",
              "      <td>0.022832</td>\n",
              "      <td>0.157336</td>\n",
              "      <td>0.208624</td>\n",
              "      <td>0.065732</td>\n",
              "      <td>0.061867</td>\n",
              "      <td>0.018061</td>\n",
              "    </tr>\n",
              "    <tr>\n",
              "      <th>min</th>\n",
              "      <td>8.670000e+03</td>\n",
              "      <td>6.981000</td>\n",
              "      <td>9.710000</td>\n",
              "      <td>43.790000</td>\n",
              "      <td>143.500000</td>\n",
              "      <td>0.052630</td>\n",
              "      <td>0.019380</td>\n",
              "      <td>0.000000</td>\n",
              "      <td>0.000000</td>\n",
              "      <td>0.106000</td>\n",
              "      <td>0.049960</td>\n",
              "      <td>0.111500</td>\n",
              "      <td>0.360200</td>\n",
              "      <td>0.757000</td>\n",
              "      <td>6.802000</td>\n",
              "      <td>0.001713</td>\n",
              "      <td>0.002252</td>\n",
              "      <td>0.000000</td>\n",
              "      <td>0.000000</td>\n",
              "      <td>0.007882</td>\n",
              "      <td>0.000895</td>\n",
              "      <td>7.930000</td>\n",
              "      <td>12.020000</td>\n",
              "      <td>50.410000</td>\n",
              "      <td>185.200000</td>\n",
              "      <td>0.071170</td>\n",
              "      <td>0.027290</td>\n",
              "      <td>0.000000</td>\n",
              "      <td>0.000000</td>\n",
              "      <td>0.156500</td>\n",
              "      <td>0.055040</td>\n",
              "    </tr>\n",
              "    <tr>\n",
              "      <th>25%</th>\n",
              "      <td>8.692180e+05</td>\n",
              "      <td>11.700000</td>\n",
              "      <td>16.170000</td>\n",
              "      <td>75.170000</td>\n",
              "      <td>420.300000</td>\n",
              "      <td>0.086370</td>\n",
              "      <td>0.064920</td>\n",
              "      <td>0.029560</td>\n",
              "      <td>0.020310</td>\n",
              "      <td>0.161900</td>\n",
              "      <td>0.057700</td>\n",
              "      <td>0.232400</td>\n",
              "      <td>0.833900</td>\n",
              "      <td>1.606000</td>\n",
              "      <td>17.850000</td>\n",
              "      <td>0.005169</td>\n",
              "      <td>0.013080</td>\n",
              "      <td>0.015090</td>\n",
              "      <td>0.007638</td>\n",
              "      <td>0.015160</td>\n",
              "      <td>0.002248</td>\n",
              "      <td>13.010000</td>\n",
              "      <td>21.080000</td>\n",
              "      <td>84.110000</td>\n",
              "      <td>515.300000</td>\n",
              "      <td>0.116600</td>\n",
              "      <td>0.147200</td>\n",
              "      <td>0.114500</td>\n",
              "      <td>0.064930</td>\n",
              "      <td>0.250400</td>\n",
              "      <td>0.071460</td>\n",
              "    </tr>\n",
              "    <tr>\n",
              "      <th>50%</th>\n",
              "      <td>9.060240e+05</td>\n",
              "      <td>13.370000</td>\n",
              "      <td>18.840000</td>\n",
              "      <td>86.240000</td>\n",
              "      <td>551.100000</td>\n",
              "      <td>0.095870</td>\n",
              "      <td>0.092630</td>\n",
              "      <td>0.061540</td>\n",
              "      <td>0.033500</td>\n",
              "      <td>0.179200</td>\n",
              "      <td>0.061540</td>\n",
              "      <td>0.324200</td>\n",
              "      <td>1.108000</td>\n",
              "      <td>2.287000</td>\n",
              "      <td>24.530000</td>\n",
              "      <td>0.006380</td>\n",
              "      <td>0.020450</td>\n",
              "      <td>0.025890</td>\n",
              "      <td>0.010930</td>\n",
              "      <td>0.018730</td>\n",
              "      <td>0.003187</td>\n",
              "      <td>14.970000</td>\n",
              "      <td>25.410000</td>\n",
              "      <td>97.660000</td>\n",
              "      <td>686.500000</td>\n",
              "      <td>0.131300</td>\n",
              "      <td>0.211900</td>\n",
              "      <td>0.226700</td>\n",
              "      <td>0.099930</td>\n",
              "      <td>0.282200</td>\n",
              "      <td>0.080040</td>\n",
              "    </tr>\n",
              "    <tr>\n",
              "      <th>75%</th>\n",
              "      <td>8.813129e+06</td>\n",
              "      <td>15.780000</td>\n",
              "      <td>21.800000</td>\n",
              "      <td>104.100000</td>\n",
              "      <td>782.700000</td>\n",
              "      <td>0.105300</td>\n",
              "      <td>0.130400</td>\n",
              "      <td>0.130700</td>\n",
              "      <td>0.074000</td>\n",
              "      <td>0.195700</td>\n",
              "      <td>0.066120</td>\n",
              "      <td>0.478900</td>\n",
              "      <td>1.474000</td>\n",
              "      <td>3.357000</td>\n",
              "      <td>45.190000</td>\n",
              "      <td>0.008146</td>\n",
              "      <td>0.032450</td>\n",
              "      <td>0.042050</td>\n",
              "      <td>0.014710</td>\n",
              "      <td>0.023480</td>\n",
              "      <td>0.004558</td>\n",
              "      <td>18.790000</td>\n",
              "      <td>29.720000</td>\n",
              "      <td>125.400000</td>\n",
              "      <td>1084.000000</td>\n",
              "      <td>0.146000</td>\n",
              "      <td>0.339100</td>\n",
              "      <td>0.382900</td>\n",
              "      <td>0.161400</td>\n",
              "      <td>0.317900</td>\n",
              "      <td>0.092080</td>\n",
              "    </tr>\n",
              "    <tr>\n",
              "      <th>max</th>\n",
              "      <td>9.113205e+08</td>\n",
              "      <td>28.110000</td>\n",
              "      <td>39.280000</td>\n",
              "      <td>188.500000</td>\n",
              "      <td>2501.000000</td>\n",
              "      <td>0.163400</td>\n",
              "      <td>0.345400</td>\n",
              "      <td>0.426800</td>\n",
              "      <td>0.201200</td>\n",
              "      <td>0.304000</td>\n",
              "      <td>0.097440</td>\n",
              "      <td>2.873000</td>\n",
              "      <td>4.885000</td>\n",
              "      <td>21.980000</td>\n",
              "      <td>542.200000</td>\n",
              "      <td>0.031130</td>\n",
              "      <td>0.135400</td>\n",
              "      <td>0.396000</td>\n",
              "      <td>0.052790</td>\n",
              "      <td>0.078950</td>\n",
              "      <td>0.029840</td>\n",
              "      <td>36.040000</td>\n",
              "      <td>49.540000</td>\n",
              "      <td>251.200000</td>\n",
              "      <td>4254.000000</td>\n",
              "      <td>0.222600</td>\n",
              "      <td>1.058000</td>\n",
              "      <td>1.252000</td>\n",
              "      <td>0.291000</td>\n",
              "      <td>0.663800</td>\n",
              "      <td>0.207500</td>\n",
              "    </tr>\n",
              "  </tbody>\n",
              "</table>\n",
              "</div>"
            ],
            "text/plain": [
              "                 0           2           3           4            5   \\\n",
              "count  5.690000e+02  569.000000  569.000000  569.000000   569.000000   \n",
              "mean   3.037183e+07   14.127292   19.289649   91.969033   654.889104   \n",
              "std    1.250206e+08    3.524049    4.301036   24.298981   351.914129   \n",
              "min    8.670000e+03    6.981000    9.710000   43.790000   143.500000   \n",
              "25%    8.692180e+05   11.700000   16.170000   75.170000   420.300000   \n",
              "50%    9.060240e+05   13.370000   18.840000   86.240000   551.100000   \n",
              "75%    8.813129e+06   15.780000   21.800000  104.100000   782.700000   \n",
              "max    9.113205e+08   28.110000   39.280000  188.500000  2501.000000   \n",
              "\n",
              "               6           7           8           9           10          11  \\\n",
              "count  569.000000  569.000000  569.000000  569.000000  569.000000  569.000000   \n",
              "mean     0.096360    0.104341    0.088799    0.048919    0.181162    0.062798   \n",
              "std      0.014064    0.052813    0.079720    0.038803    0.027414    0.007060   \n",
              "min      0.052630    0.019380    0.000000    0.000000    0.106000    0.049960   \n",
              "25%      0.086370    0.064920    0.029560    0.020310    0.161900    0.057700   \n",
              "50%      0.095870    0.092630    0.061540    0.033500    0.179200    0.061540   \n",
              "75%      0.105300    0.130400    0.130700    0.074000    0.195700    0.066120   \n",
              "max      0.163400    0.345400    0.426800    0.201200    0.304000    0.097440   \n",
              "\n",
              "               12          13          14          15          16          17  \\\n",
              "count  569.000000  569.000000  569.000000  569.000000  569.000000  569.000000   \n",
              "mean     0.405172    1.216853    2.866059   40.337079    0.007041    0.025478   \n",
              "std      0.277313    0.551648    2.021855   45.491006    0.003003    0.017908   \n",
              "min      0.111500    0.360200    0.757000    6.802000    0.001713    0.002252   \n",
              "25%      0.232400    0.833900    1.606000   17.850000    0.005169    0.013080   \n",
              "50%      0.324200    1.108000    2.287000   24.530000    0.006380    0.020450   \n",
              "75%      0.478900    1.474000    3.357000   45.190000    0.008146    0.032450   \n",
              "max      2.873000    4.885000   21.980000  542.200000    0.031130    0.135400   \n",
              "\n",
              "               18          19          20          21          22          23  \\\n",
              "count  569.000000  569.000000  569.000000  569.000000  569.000000  569.000000   \n",
              "mean     0.031894    0.011796    0.020542    0.003795   16.269190   25.677223   \n",
              "std      0.030186    0.006170    0.008266    0.002646    4.833242    6.146258   \n",
              "min      0.000000    0.000000    0.007882    0.000895    7.930000   12.020000   \n",
              "25%      0.015090    0.007638    0.015160    0.002248   13.010000   21.080000   \n",
              "50%      0.025890    0.010930    0.018730    0.003187   14.970000   25.410000   \n",
              "75%      0.042050    0.014710    0.023480    0.004558   18.790000   29.720000   \n",
              "max      0.396000    0.052790    0.078950    0.029840   36.040000   49.540000   \n",
              "\n",
              "               24           25          26          27          28  \\\n",
              "count  569.000000   569.000000  569.000000  569.000000  569.000000   \n",
              "mean   107.261213   880.583128    0.132369    0.254265    0.272188   \n",
              "std     33.602542   569.356993    0.022832    0.157336    0.208624   \n",
              "min     50.410000   185.200000    0.071170    0.027290    0.000000   \n",
              "25%     84.110000   515.300000    0.116600    0.147200    0.114500   \n",
              "50%     97.660000   686.500000    0.131300    0.211900    0.226700   \n",
              "75%    125.400000  1084.000000    0.146000    0.339100    0.382900   \n",
              "max    251.200000  4254.000000    0.222600    1.058000    1.252000   \n",
              "\n",
              "               29          30          31  \n",
              "count  569.000000  569.000000  569.000000  \n",
              "mean     0.114606    0.290076    0.083946  \n",
              "std      0.065732    0.061867    0.018061  \n",
              "min      0.000000    0.156500    0.055040  \n",
              "25%      0.064930    0.250400    0.071460  \n",
              "50%      0.099930    0.282200    0.080040  \n",
              "75%      0.161400    0.317900    0.092080  \n",
              "max      0.291000    0.663800    0.207500  "
            ]
          },
          "metadata": {
            "tags": []
          },
          "execution_count": 3
        }
      ]
    },
    {
      "metadata": {
        "id": "S2LHhMma23ZB",
        "colab_type": "code",
        "outputId": "e4a58a49-2b47-4acd-d3e5-98f43b42c86b",
        "colab": {
          "base_uri": "https://localhost:8080/",
          "height": 215
        }
      },
      "cell_type": "code",
      "source": [
        "bc_dat.head(5)"
      ],
      "execution_count": 0,
      "outputs": [
        {
          "output_type": "execute_result",
          "data": {
            "text/html": [
              "<div>\n",
              "<style scoped>\n",
              "    .dataframe tbody tr th:only-of-type {\n",
              "        vertical-align: middle;\n",
              "    }\n",
              "\n",
              "    .dataframe tbody tr th {\n",
              "        vertical-align: top;\n",
              "    }\n",
              "\n",
              "    .dataframe thead th {\n",
              "        text-align: right;\n",
              "    }\n",
              "</style>\n",
              "<table border=\"1\" class=\"dataframe\">\n",
              "  <thead>\n",
              "    <tr style=\"text-align: right;\">\n",
              "      <th></th>\n",
              "      <th>0</th>\n",
              "      <th>1</th>\n",
              "      <th>2</th>\n",
              "      <th>3</th>\n",
              "      <th>4</th>\n",
              "      <th>5</th>\n",
              "      <th>6</th>\n",
              "      <th>7</th>\n",
              "      <th>8</th>\n",
              "      <th>9</th>\n",
              "      <th>10</th>\n",
              "      <th>11</th>\n",
              "      <th>12</th>\n",
              "      <th>13</th>\n",
              "      <th>14</th>\n",
              "      <th>15</th>\n",
              "      <th>16</th>\n",
              "      <th>17</th>\n",
              "      <th>18</th>\n",
              "      <th>19</th>\n",
              "      <th>20</th>\n",
              "      <th>21</th>\n",
              "      <th>22</th>\n",
              "      <th>23</th>\n",
              "      <th>24</th>\n",
              "      <th>25</th>\n",
              "      <th>26</th>\n",
              "      <th>27</th>\n",
              "      <th>28</th>\n",
              "      <th>29</th>\n",
              "      <th>30</th>\n",
              "      <th>31</th>\n",
              "    </tr>\n",
              "  </thead>\n",
              "  <tbody>\n",
              "    <tr>\n",
              "      <th>0</th>\n",
              "      <td>842302</td>\n",
              "      <td>M</td>\n",
              "      <td>17.99</td>\n",
              "      <td>10.38</td>\n",
              "      <td>122.80</td>\n",
              "      <td>1001.0</td>\n",
              "      <td>0.11840</td>\n",
              "      <td>0.27760</td>\n",
              "      <td>0.3001</td>\n",
              "      <td>0.14710</td>\n",
              "      <td>0.2419</td>\n",
              "      <td>0.07871</td>\n",
              "      <td>1.0950</td>\n",
              "      <td>0.9053</td>\n",
              "      <td>8.589</td>\n",
              "      <td>153.40</td>\n",
              "      <td>0.006399</td>\n",
              "      <td>0.04904</td>\n",
              "      <td>0.05373</td>\n",
              "      <td>0.01587</td>\n",
              "      <td>0.03003</td>\n",
              "      <td>0.006193</td>\n",
              "      <td>25.38</td>\n",
              "      <td>17.33</td>\n",
              "      <td>184.60</td>\n",
              "      <td>2019.0</td>\n",
              "      <td>0.1622</td>\n",
              "      <td>0.6656</td>\n",
              "      <td>0.7119</td>\n",
              "      <td>0.2654</td>\n",
              "      <td>0.4601</td>\n",
              "      <td>0.11890</td>\n",
              "    </tr>\n",
              "    <tr>\n",
              "      <th>1</th>\n",
              "      <td>842517</td>\n",
              "      <td>M</td>\n",
              "      <td>20.57</td>\n",
              "      <td>17.77</td>\n",
              "      <td>132.90</td>\n",
              "      <td>1326.0</td>\n",
              "      <td>0.08474</td>\n",
              "      <td>0.07864</td>\n",
              "      <td>0.0869</td>\n",
              "      <td>0.07017</td>\n",
              "      <td>0.1812</td>\n",
              "      <td>0.05667</td>\n",
              "      <td>0.5435</td>\n",
              "      <td>0.7339</td>\n",
              "      <td>3.398</td>\n",
              "      <td>74.08</td>\n",
              "      <td>0.005225</td>\n",
              "      <td>0.01308</td>\n",
              "      <td>0.01860</td>\n",
              "      <td>0.01340</td>\n",
              "      <td>0.01389</td>\n",
              "      <td>0.003532</td>\n",
              "      <td>24.99</td>\n",
              "      <td>23.41</td>\n",
              "      <td>158.80</td>\n",
              "      <td>1956.0</td>\n",
              "      <td>0.1238</td>\n",
              "      <td>0.1866</td>\n",
              "      <td>0.2416</td>\n",
              "      <td>0.1860</td>\n",
              "      <td>0.2750</td>\n",
              "      <td>0.08902</td>\n",
              "    </tr>\n",
              "    <tr>\n",
              "      <th>2</th>\n",
              "      <td>84300903</td>\n",
              "      <td>M</td>\n",
              "      <td>19.69</td>\n",
              "      <td>21.25</td>\n",
              "      <td>130.00</td>\n",
              "      <td>1203.0</td>\n",
              "      <td>0.10960</td>\n",
              "      <td>0.15990</td>\n",
              "      <td>0.1974</td>\n",
              "      <td>0.12790</td>\n",
              "      <td>0.2069</td>\n",
              "      <td>0.05999</td>\n",
              "      <td>0.7456</td>\n",
              "      <td>0.7869</td>\n",
              "      <td>4.585</td>\n",
              "      <td>94.03</td>\n",
              "      <td>0.006150</td>\n",
              "      <td>0.04006</td>\n",
              "      <td>0.03832</td>\n",
              "      <td>0.02058</td>\n",
              "      <td>0.02250</td>\n",
              "      <td>0.004571</td>\n",
              "      <td>23.57</td>\n",
              "      <td>25.53</td>\n",
              "      <td>152.50</td>\n",
              "      <td>1709.0</td>\n",
              "      <td>0.1444</td>\n",
              "      <td>0.4245</td>\n",
              "      <td>0.4504</td>\n",
              "      <td>0.2430</td>\n",
              "      <td>0.3613</td>\n",
              "      <td>0.08758</td>\n",
              "    </tr>\n",
              "    <tr>\n",
              "      <th>3</th>\n",
              "      <td>84348301</td>\n",
              "      <td>M</td>\n",
              "      <td>11.42</td>\n",
              "      <td>20.38</td>\n",
              "      <td>77.58</td>\n",
              "      <td>386.1</td>\n",
              "      <td>0.14250</td>\n",
              "      <td>0.28390</td>\n",
              "      <td>0.2414</td>\n",
              "      <td>0.10520</td>\n",
              "      <td>0.2597</td>\n",
              "      <td>0.09744</td>\n",
              "      <td>0.4956</td>\n",
              "      <td>1.1560</td>\n",
              "      <td>3.445</td>\n",
              "      <td>27.23</td>\n",
              "      <td>0.009110</td>\n",
              "      <td>0.07458</td>\n",
              "      <td>0.05661</td>\n",
              "      <td>0.01867</td>\n",
              "      <td>0.05963</td>\n",
              "      <td>0.009208</td>\n",
              "      <td>14.91</td>\n",
              "      <td>26.50</td>\n",
              "      <td>98.87</td>\n",
              "      <td>567.7</td>\n",
              "      <td>0.2098</td>\n",
              "      <td>0.8663</td>\n",
              "      <td>0.6869</td>\n",
              "      <td>0.2575</td>\n",
              "      <td>0.6638</td>\n",
              "      <td>0.17300</td>\n",
              "    </tr>\n",
              "    <tr>\n",
              "      <th>4</th>\n",
              "      <td>84358402</td>\n",
              "      <td>M</td>\n",
              "      <td>20.29</td>\n",
              "      <td>14.34</td>\n",
              "      <td>135.10</td>\n",
              "      <td>1297.0</td>\n",
              "      <td>0.10030</td>\n",
              "      <td>0.13280</td>\n",
              "      <td>0.1980</td>\n",
              "      <td>0.10430</td>\n",
              "      <td>0.1809</td>\n",
              "      <td>0.05883</td>\n",
              "      <td>0.7572</td>\n",
              "      <td>0.7813</td>\n",
              "      <td>5.438</td>\n",
              "      <td>94.44</td>\n",
              "      <td>0.011490</td>\n",
              "      <td>0.02461</td>\n",
              "      <td>0.05688</td>\n",
              "      <td>0.01885</td>\n",
              "      <td>0.01756</td>\n",
              "      <td>0.005115</td>\n",
              "      <td>22.54</td>\n",
              "      <td>16.67</td>\n",
              "      <td>152.20</td>\n",
              "      <td>1575.0</td>\n",
              "      <td>0.1374</td>\n",
              "      <td>0.2050</td>\n",
              "      <td>0.4000</td>\n",
              "      <td>0.1625</td>\n",
              "      <td>0.2364</td>\n",
              "      <td>0.07678</td>\n",
              "    </tr>\n",
              "  </tbody>\n",
              "</table>\n",
              "</div>"
            ],
            "text/plain": [
              "         0  1      2      3       4       5        6        7       8   \\\n",
              "0    842302  M  17.99  10.38  122.80  1001.0  0.11840  0.27760  0.3001   \n",
              "1    842517  M  20.57  17.77  132.90  1326.0  0.08474  0.07864  0.0869   \n",
              "2  84300903  M  19.69  21.25  130.00  1203.0  0.10960  0.15990  0.1974   \n",
              "3  84348301  M  11.42  20.38   77.58   386.1  0.14250  0.28390  0.2414   \n",
              "4  84358402  M  20.29  14.34  135.10  1297.0  0.10030  0.13280  0.1980   \n",
              "\n",
              "        9       10       11      12      13     14      15        16       17  \\\n",
              "0  0.14710  0.2419  0.07871  1.0950  0.9053  8.589  153.40  0.006399  0.04904   \n",
              "1  0.07017  0.1812  0.05667  0.5435  0.7339  3.398   74.08  0.005225  0.01308   \n",
              "2  0.12790  0.2069  0.05999  0.7456  0.7869  4.585   94.03  0.006150  0.04006   \n",
              "3  0.10520  0.2597  0.09744  0.4956  1.1560  3.445   27.23  0.009110  0.07458   \n",
              "4  0.10430  0.1809  0.05883  0.7572  0.7813  5.438   94.44  0.011490  0.02461   \n",
              "\n",
              "        18       19       20        21     22     23      24      25      26  \\\n",
              "0  0.05373  0.01587  0.03003  0.006193  25.38  17.33  184.60  2019.0  0.1622   \n",
              "1  0.01860  0.01340  0.01389  0.003532  24.99  23.41  158.80  1956.0  0.1238   \n",
              "2  0.03832  0.02058  0.02250  0.004571  23.57  25.53  152.50  1709.0  0.1444   \n",
              "3  0.05661  0.01867  0.05963  0.009208  14.91  26.50   98.87   567.7  0.2098   \n",
              "4  0.05688  0.01885  0.01756  0.005115  22.54  16.67  152.20  1575.0  0.1374   \n",
              "\n",
              "       27      28      29      30       31  \n",
              "0  0.6656  0.7119  0.2654  0.4601  0.11890  \n",
              "1  0.1866  0.2416  0.1860  0.2750  0.08902  \n",
              "2  0.4245  0.4504  0.2430  0.3613  0.08758  \n",
              "3  0.8663  0.6869  0.2575  0.6638  0.17300  \n",
              "4  0.2050  0.4000  0.1625  0.2364  0.07678  "
            ]
          },
          "metadata": {
            "tags": []
          },
          "execution_count": 4
        }
      ]
    },
    {
      "metadata": {
        "id": "xHedMVzY3uQo",
        "colab_type": "code",
        "outputId": "7f40625e-0980-4912-c981-72cfb890d756",
        "colab": {
          "base_uri": "https://localhost:8080/",
          "height": 101
        }
      },
      "cell_type": "code",
      "source": [
        "# Let's check the dependent variable:\n",
        "bc_dat.iloc[:,1].describe()"
      ],
      "execution_count": 0,
      "outputs": [
        {
          "output_type": "execute_result",
          "data": {
            "text/plain": [
              "count     569\n",
              "unique      2\n",
              "top         B\n",
              "freq      357\n",
              "Name: 1, dtype: object"
            ]
          },
          "metadata": {
            "tags": []
          },
          "execution_count": 5
        }
      ]
    },
    {
      "metadata": {
        "id": "8MZswZsz2POl",
        "colab_type": "code",
        "colab": {}
      },
      "cell_type": "code",
      "source": [
        "# The first column is a simple id - and must be discarded\n",
        "# I then separate explanatory variables (matrix of dependent vairables DVs) and the dependent variable (vector of independent variable IV) that contains the target categories\n",
        "\n",
        "DVs = bc_dat.iloc[:,2:31]\n",
        "\n",
        "IV = bc_dat.iloc[:,1]\n",
        "IV = pd.get_dummies(IV)  # One-Hot Encoding - required by classification algorithms\n",
        "\n",
        "# In order to feed the data into a Neural Network, I must turn the data into numpy objects\n",
        "DVs = DVs.values\n",
        "IV = IV.values\n"
      ],
      "execution_count": 0,
      "outputs": []
    },
    {
      "metadata": {
        "id": "_US9T10bMPOA",
        "colab_type": "code",
        "colab": {}
      },
      "cell_type": "code",
      "source": [
        "# Scale the variables using Z-scores\n",
        "# you can use sklearn's preprocessing.StandardScaler() if you prefer\n",
        "\n",
        "def normalize(x):\n",
        "    return (x - np.mean(x))/(np.std(x))\n",
        "\n",
        "for i in range(DVs.shape[1]):\n",
        "    DVs[:,i] = normalize(DVs[:,i])"
      ],
      "execution_count": 0,
      "outputs": []
    },
    {
      "metadata": {
        "id": "na1-bLe4476t",
        "colab_type": "text"
      },
      "cell_type": "markdown",
      "source": [
        "## Train-Test split\n",
        "\n",
        "In an actual ML job, you would split your dataset in **Train**, **Test**, and **Validation sets**. However, this is just an example on how to implement and run a Neural Network, so I'll skip that part and will split the data in train and test only."
      ]
    },
    {
      "metadata": {
        "id": "W8V-cHX21C_R",
        "colab_type": "code",
        "outputId": "feea612c-fb34-494a-fe98-b96e9b203682",
        "colab": {
          "base_uri": "https://localhost:8080/",
          "height": 50
        }
      },
      "cell_type": "code",
      "source": [
        "from sklearn.model_selection import train_test_split\n",
        "\n",
        "X_train, X_test, y_train, y_test = train_test_split(DVs, IV, test_size=0.25, random_state=173)\n",
        "\n",
        "print(X_train.shape, y_train.shape)\n",
        "print(X_test.shape, y_test.shape)"
      ],
      "execution_count": 0,
      "outputs": [
        {
          "output_type": "stream",
          "text": [
            "(426, 29) (426, 2)\n",
            "(143, 29) (143, 2)\n"
          ],
          "name": "stdout"
        }
      ]
    },
    {
      "metadata": {
        "id": "ixixVy6OHfgs",
        "colab_type": "text"
      },
      "cell_type": "markdown",
      "source": [
        "# Architecture\n",
        "\n",
        "Since the network is not very deep, and the number of parameters is relatively small, I can employ more \"demanding\" (and performing) activation functions. In this case, I choose **Leaky ReLU** for hidden layers. A **softmax** function is then applied at the end, so that the attribution of classes (M/B) is shrink into probabilities.\n",
        "\n",
        "I also applied **dropout**, that helps prevent overfitting; and **Batch normalization**, that prevents the problem of vanishing/expoloding gradients.\n",
        "\n"
      ]
    },
    {
      "metadata": {
        "id": "Rah6V2pW8qa5",
        "colab_type": "code",
        "colab": {}
      },
      "cell_type": "code",
      "source": [
        "tf.reset_default_graph()\n",
        "\n",
        "\n",
        "# The fully_connected function generates the layers of Neural Networks\n",
        "from tensorflow.contrib.layers import fully_connected, batch_norm\n",
        "\n",
        "# I choose the size of each layer\n",
        "n_inputs = X_train.shape[1]\n",
        "n_hidden1 = 30\n",
        "n_hidden2 = 30\n",
        "n_hidden3 = 15\n",
        "n_hidden4 = 15\n",
        "n_outputs = 2   # Number of outputs: \"Malignant\" or \"Benign\"\n",
        "\n",
        "dropout_probability = 0.1\n",
        "\n",
        "# Placeholders are kind of \"empty variables\" in a TF computational graph.\n",
        "# I will feed the actual data through them - in the graph, they are like entry doors for my data\n",
        "X = tf.placeholder(tf.float32, shape=(None, n_inputs), name=\"X\")\n",
        "y = tf.placeholder(tf.float32, shape=(None, n_outputs), name=\"y\")\n",
        "\n",
        "\n",
        "hidden1 = fully_connected(X, n_hidden1, activation_fn=tf.nn.leaky_relu, normalizer_fn=batch_norm, scope=\"hidden1\")\n",
        "hidden1 = tf.layers.dropout(hidden1, rate=dropout_probability)\n",
        "\n",
        "hidden2 = fully_connected(hidden1, n_hidden2, activation_fn=tf.nn.leaky_relu, normalizer_fn=batch_norm, scope=\"hidden2\")\n",
        "hidden2 = tf.layers.dropout(hidden2, rate=dropout_probability)\n",
        "\n",
        "hidden3 = fully_connected(hidden2, n_hidden3, activation_fn=tf.nn.leaky_relu, normalizer_fn=batch_norm, scope=\"hidden3\")\n",
        "hidden3 = tf.layers.dropout(hidden3, rate=dropout_probability)\n",
        "\n",
        "hidden4 = fully_connected(hidden3, n_hidden4, activation_fn=tf.nn.leaky_relu, normalizer_fn=batch_norm, scope=\"hidden4\")\n",
        "hidden4 = tf.layers.dropout(hidden4, rate=dropout_probability)\n",
        "\n",
        "# this is the output layer - I choose a softmax function that shrinks everything into probabilities\n",
        "classes = fully_connected(hidden3, n_outputs, activation_fn=tf.nn.softmax, scope=\"outputs\")\n"
      ],
      "execution_count": 0,
      "outputs": []
    },
    {
      "metadata": {
        "id": "rbjnKz1S8yNh",
        "colab_type": "code",
        "colab": {}
      },
      "cell_type": "code",
      "source": [
        "# Define a loss function - softmax cross entropy is very common for classification tasks\n",
        "loss = tf.reduce_mean(tf.nn.softmax_cross_entropy_with_logits_v2(labels=y, logits=classes))\n",
        "\n",
        "\n",
        "# this node of the TF graph performs the actual training process\n",
        "training_op = tf.train.AdamOptimizer(learning_rate = 0.001).minimize(loss)\n",
        "\n",
        "# I define also a measure of accuracy - so that I can monitor how it changes \n",
        "correct = tf.equal(tf.argmax(classes, 1), tf.argmax(y, 1))\n",
        "accuracy = tf.reduce_mean(tf.cast(correct, tf.float32))\n"
      ],
      "execution_count": 0,
      "outputs": []
    },
    {
      "metadata": {
        "id": "RkGseeqn6pmq",
        "colab_type": "text"
      },
      "cell_type": "markdown",
      "source": [
        "## Implementation of Batch Gradient Descent\n",
        "\n",
        "This implementation is the simplest form of feed-forward Neural Network, based on **batch Gradient Descent**. This is Gradient Descent in its simplest form, in which the whole bunch of training data is fed into the network at each iteration.\n",
        "\n",
        "In a following notebook I will show the implementation of **Mini-Batch Gradient Descent**."
      ]
    },
    {
      "metadata": {
        "id": "yKLFel2f99bW",
        "colab_type": "code",
        "colab": {}
      },
      "cell_type": "code",
      "source": [
        "# I first set a saver, in order to save the model\n",
        "saver = tf.train.Saver()\n",
        "\n",
        "# Training usually requires a higher number of epochs - this is just a toy model for explanation purposes\n",
        "n_epochs = 3000\n",
        "\n",
        "# I want to save loss, train and test accuracy at each epoch\n",
        "loss_train_history = []\n",
        "loss_test_history = []\n",
        "accuracy_train_history = []\n",
        "accuracy_test_history = []"
      ],
      "execution_count": 0,
      "outputs": []
    },
    {
      "metadata": {
        "id": "vmFNdatO7WKf",
        "colab_type": "code",
        "outputId": "2332ecaa-d060-4a95-ad15-057c7614f998",
        "colab": {
          "base_uri": "https://localhost:8080/",
          "height": 561
        }
      },
      "cell_type": "code",
      "source": [
        "\n",
        "# I now open a TensorFlow session, in order to execute the computational graph\n",
        "\n",
        "with tf.Session() as sess:\n",
        "    \n",
        "    # the the beginning of each execution, you must initialize all variables in the computational graph\n",
        "    sess.run(tf.global_variables_initializer())   # if the computational graph was a motor, this would turn it on\n",
        "    \n",
        "    \n",
        "    for epoch in range(n_epochs):\n",
        "        \n",
        "        # this is the training. I feed my train data to optimize the loss function\n",
        "        sess.run(training_op, feed_dict={X: X_train, y: y_train})   # I can do it because I defined the X and y placeholders above\n",
        "        \n",
        "        # then save loss, train and test accuracy\n",
        "        # each accuracy/loss requires train/test data for its computation\n",
        "        loss_train = loss.eval(feed_dict={X: X_train, y: y_train})\n",
        "        loss_test = loss.eval(feed_dict={X: X_test, y: y_test})\n",
        "        accuracy_train = accuracy.eval(feed_dict={X: X_train, y: y_train})\n",
        "        accuracy_test = accuracy.eval(feed_dict={X: X_test, y: y_test})\n",
        "        \n",
        "        # then add them to the series\n",
        "        loss_train_history.append(loss_train)\n",
        "        loss_test_history.append(loss_test)\n",
        "        accuracy_train_history.append(accuracy_train)\n",
        "        accuracy_test_history.append(accuracy_test)\n",
        "        \n",
        "        # Print the losses and monitor the training process in real time\n",
        "        # In this example, I don't want to print 1000 rows (this would make the notebook unreadable), so I'll just print one every 100 epochs:\n",
        "        if epoch % 100 == 0:\n",
        "            print(str(epoch+1) + \". Train accuracy: \" + str(accuracy_train) + \"; Test accuracy: \" + str(accuracy_test) + \",\")\n",
        "            \n",
        "            # additionally, the following line saves the model every 100 iterations\n",
        "            # In case the training takes very long, you want to save the model periodically, so you don't run the risk to loose your progress\n",
        "            saver.save(sess, \"TF_classification.ckpt\")   # the \"./\" means \"in the current directory\" - classification.ckpt is my TF model\n",
        "    \n",
        "    # At the very end, I save the model:\n",
        "    saver.save(sess, \"TF_classification.ckpt\")\n",
        "    \n",
        "    # and I store the predictions for the test set in an object:\n",
        "    prediction = classes.eval(feed_dict={X: X_test, y: y_test})  # I use classes, because that's the output of the Network\n",
        "    \n",
        "    print()\n",
        "    print(\"Training complete.\")\n",
        "#"
      ],
      "execution_count": 0,
      "outputs": [
        {
          "output_type": "stream",
          "text": [
            "1. Train accuracy: 0.69953054; Test accuracy: 0.6573427,\n",
            "101. Train accuracy: 0.9835681; Test accuracy: 0.986014,\n",
            "201. Train accuracy: 0.9929578; Test accuracy: 0.986014,\n",
            "301. Train accuracy: 0.9976526; Test accuracy: 1.0,\n",
            "401. Train accuracy: 1.0; Test accuracy: 0.993007,\n",
            "501. Train accuracy: 1.0; Test accuracy: 0.993007,\n",
            "601. Train accuracy: 1.0; Test accuracy: 0.993007,\n",
            "701. Train accuracy: 1.0; Test accuracy: 0.993007,\n",
            "801. Train accuracy: 1.0; Test accuracy: 0.993007,\n",
            "901. Train accuracy: 1.0; Test accuracy: 0.993007,\n",
            "1001. Train accuracy: 1.0; Test accuracy: 0.993007,\n",
            "1101. Train accuracy: 1.0; Test accuracy: 0.993007,\n",
            "1201. Train accuracy: 1.0; Test accuracy: 0.993007,\n",
            "1301. Train accuracy: 1.0; Test accuracy: 0.993007,\n",
            "1401. Train accuracy: 1.0; Test accuracy: 0.993007,\n",
            "1501. Train accuracy: 1.0; Test accuracy: 0.993007,\n",
            "1601. Train accuracy: 1.0; Test accuracy: 0.986014,\n",
            "1701. Train accuracy: 1.0; Test accuracy: 0.986014,\n",
            "1801. Train accuracy: 1.0; Test accuracy: 0.986014,\n",
            "1901. Train accuracy: 1.0; Test accuracy: 0.986014,\n",
            "2001. Train accuracy: 1.0; Test accuracy: 0.986014,\n",
            "2101. Train accuracy: 1.0; Test accuracy: 0.986014,\n",
            "2201. Train accuracy: 1.0; Test accuracy: 0.986014,\n",
            "2301. Train accuracy: 1.0; Test accuracy: 0.986014,\n",
            "2401. Train accuracy: 1.0; Test accuracy: 0.986014,\n",
            "2501. Train accuracy: 1.0; Test accuracy: 0.986014,\n",
            "2601. Train accuracy: 1.0; Test accuracy: 0.986014,\n",
            "2701. Train accuracy: 1.0; Test accuracy: 0.986014,\n",
            "2801. Train accuracy: 1.0; Test accuracy: 0.986014,\n",
            "2901. Train accuracy: 1.0; Test accuracy: 0.97902095,\n",
            "\n",
            "Training complete.\n"
          ],
          "name": "stdout"
        }
      ]
    },
    {
      "metadata": {
        "id": "sZ30S7lTPgKq",
        "colab_type": "text"
      },
      "cell_type": "markdown",
      "source": [
        "**( IMPORTANT CLARIFICATION**: *In this notebook I saved, at the end of the training process, the model's predictions of the Network on the test set in a specific object (prediction). This is done for educational purposes only, but it's not a good practice for Data Scientists. In a following notebook, I will show how to **restore a model** and use it for prediction after the training is done.* )"
      ]
    },
    {
      "metadata": {
        "id": "fwL6PbMwN4GV",
        "colab_type": "text"
      },
      "cell_type": "markdown",
      "source": [
        "## Check performance visually"
      ]
    },
    {
      "metadata": {
        "id": "oRuUyW_yESzz",
        "colab_type": "code",
        "outputId": "41e8f589-0786-4ba2-f26d-bcf5ff453878",
        "colab": {
          "base_uri": "https://localhost:8080/",
          "height": 362
        }
      },
      "cell_type": "code",
      "source": [
        "plt.plot(loss_train_history, label='Train loss')\n",
        "plt.plot(loss_test_history, label='Test loss')\n",
        "plt.title('Train and Test loss - Batch Gradient Descent')\n",
        "plt.legend()\n",
        "plt.show()"
      ],
      "execution_count": 0,
      "outputs": [
        {
          "output_type": "display_data",
          "data": {
            "image/png": "[encoded data removed]",
            "text/plain": [
              "<Figure size 576x396 with 1 Axes>"
            ]
          },
          "metadata": {
            "tags": []
          }
        }
      ]
    },
    {
      "metadata": {
        "id": "NfibKr7-Gpb4",
        "colab_type": "text"
      },
      "cell_type": "markdown",
      "source": [
        "What can be noted is some overfitting: the training model slightly outperforms the test model. However, this difference doesn't seeem to be too high."
      ]
    },
    {
      "metadata": {
        "id": "HSXIxbrZEA7-",
        "colab_type": "code",
        "outputId": "6ec2f081-e094-4eca-c0c5-f65c46a53da4",
        "colab": {
          "base_uri": "https://localhost:8080/",
          "height": 362
        }
      },
      "cell_type": "code",
      "source": [
        "plt.plot(accuracy_train_history, label='Train accuracy')\n",
        "plt.plot(accuracy_test_history, label='Test accuracy')\n",
        "plt.title('Train and Test accuracy - Batch Gradient Descent')\n",
        "plt.legend()\n",
        "plt.show()"
      ],
      "execution_count": 0,
      "outputs": [
        {
          "output_type": "display_data",
          "data": {
            "image/png": "[encoded data removed]",
            "text/plain": [
              "<Figure size 576x396 with 1 Axes>"
            ]
          },
          "metadata": {
            "tags": []
          }
        }
      ]
    },
    {
      "metadata": {
        "id": "4WNpYCjuJ2lW",
        "colab_type": "text"
      },
      "cell_type": "markdown",
      "source": [
        "Now I'd like to check a Confusion Matrix:\n"
      ]
    },
    {
      "metadata": {
        "id": "wA0OYxBPOF3S",
        "colab_type": "code",
        "outputId": "8820cba4-b55e-4583-d64a-4b335b04e2ff",
        "colab": {
          "base_uri": "https://localhost:8080/",
          "height": 50
        }
      },
      "cell_type": "code",
      "source": [
        "# First, I need to transform the predictions of the Network in discrete probabilities\n",
        "# that is because my prediction object contains float data. Instead, I need discrete [0 or 1] values for classification\n",
        "# There are several ways\n",
        "discrete_prediction = prediction\n",
        "\n",
        "discrete_prediction = np.argmax(prediction, axis=1)   # this outputs a vector with the value of the class with the highest predicted probability [0 or 1]\n",
        "discrete_testdata = np.argmax(y_test, axis=1)    # so I do it also for the test data\n",
        "\n",
        "# plot the confusion matrix\n",
        "from sklearn.metrics import confusion_matrix\n",
        "\n",
        "CM = confusion_matrix(discrete_prediction, discrete_testdata)\n",
        "print(CM)"
      ],
      "execution_count": 0,
      "outputs": [
        {
          "output_type": "stream",
          "text": [
            "[[88  2]\n",
            " [ 1 52]]\n"
          ],
          "name": "stdout"
        }
      ]
    },
    {
      "metadata": {
        "id": "JzalO-eIOUpn",
        "colab_type": "text"
      },
      "cell_type": "markdown",
      "source": [
        "The outcome of the Confusion Matrix seems very good. Most of the cases are on the have been classified correctly, i.e.: they are on the diagonal.\n",
        "\n",
        "We can also plot it as a heatmap, which can be very useful in case you are working with a high number of classes."
      ]
    },
    {
      "metadata": {
        "id": "O7vmy4Y6Od_o",
        "colab_type": "code",
        "outputId": "cb4c2c55-cf63-4c71-ba54-ee90241ea03a",
        "colab": {
          "base_uri": "https://localhost:8080/",
          "height": 364
        }
      },
      "cell_type": "code",
      "source": [
        "import seaborn\n",
        "\n",
        "seaborn.heatmap(CM, annot=True)"
      ],
      "execution_count": 0,
      "outputs": [
        {
          "output_type": "execute_result",
          "data": {
            "text/plain": [
              "<matplotlib.axes._subplots.AxesSubplot at 0x7fdeb0352b70>"
            ]
          },
          "metadata": {
            "tags": []
          },
          "execution_count": 18
        },
        {
          "output_type": "display_data",
          "data": {
            "image/png": "[encoded data removed]",
            "text/plain": [
              "<Figure size 576x396 with 2 Axes>"
            ]
          },
          "metadata": {
            "tags": []
          }
        }
      ]
    }
  ]
}