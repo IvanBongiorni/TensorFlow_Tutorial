{
  "nbformat": 4,
  "nbformat_minor": 0,
  "metadata": {
    "colab": {
      "name": "TensorFlow_3_Autoencoder_Dimensionality_Reduction.ipynb",
      "version": "0.3.2",
      "provenance": [],
      "collapsed_sections": [],
      "toc_visible": true
    },
    "kernelspec": {
      "name": "python3",
      "display_name": "Python 3"
    }
  },
  "cells": [
    {
      "metadata": {
        "id": "GTY-Msjal7zU",
        "colab_type": "text"
      },
      "cell_type": "markdown",
      "source": [
        "# TensorFlow Tutorial: Autoencoder for Dimensionality Reduction\n",
        "\n",
        "### Author: Ivan Bongiorni, Data Scientist at GfK.\n",
        "\n",
        "[LinkedIn profile](https://www.linkedin.com/in/ivan-bongiorni-b8a583164/), personal email: ivanbongiorni@gmail.com\n",
        "\n",
        "\n"
      ]
    },
    {
      "metadata": {
        "id": "Z3M5ezRyrjA3",
        "colab_type": "text"
      },
      "cell_type": "markdown",
      "source": [
        "## 0. Summary\n",
        "\n",
        "\n",
        "\n",
        "1.   What are Autoencoders?\n",
        "2.   Why would you need Autoencoders?\n",
        "3.   Implementation\n",
        "\n"
      ]
    },
    {
      "metadata": {
        "id": "Kg83oWxMm92f",
        "colab_type": "text"
      },
      "cell_type": "markdown",
      "source": [
        "## 1. What are Autoencoders?\n",
        "\n",
        "This tutorial is about a very specific form of Neural Networks: **Autoencoders**.  \n",
        "\n",
        "There are several kinds of Autoencoders around, such as denoising Autoencoders, and generative models (variational Autoencoders and GANs); they are all meant to accopmlish very specific and different tasks. In this tutotrial, I'll focus on probably the simplest of all: dimensionality reduction. Autoencoders for dimensionality reduction can be conceived as the Neural Network-equivalent of Principal Component Analysis.\n",
        "\n",
        "The purpose of this class fo models is neither to learn how to classify observations, nor to predict a continuous output, but to compress, or simplify a dataset. For this reason, Autoencoders for dimensionality reduction are unseupervised models, instead of mainstream Deep Learning models. All the data that pass through an Autoencoder are unlabeled.\n",
        "\n",
        "\n"
      ]
    },
    {
      "metadata": {
        "id": "IpcaQoQ9srG6",
        "colab_type": "text"
      },
      "cell_type": "markdown",
      "source": [
        "### Structure\n",
        "\n",
        "If I had to explain an Autoencoder to my grand mother, I'd do it like this: it can be seen as a couple of funnels joined by the tip: in order to make data must flow from one extreme to the other, you must force them through the bottleneck in the middle.\n",
        "\n"
      ]
    },
    {
      "metadata": {
        "id": "AvZTU-HzmZEo",
        "colab_type": "text"
      },
      "cell_type": "markdown",
      "source": [
        "More formally, it can be described as follows:\n",
        "\n",
        "![alt text](https://cdn-images-1.medium.com/max/800/1*44eDEuZBEsmG_TCAKRI3Kw@2x.png)\n",
        "\n",
        "(image from [towardsdatascience](https://towardsdatascience.com/applied-deep-learning-part-3-autoencoders-1c083af4d798))"
      ]
    },
    {
      "metadata": {
        "id": "cAxMjUCBUa43",
        "colab_type": "text"
      },
      "cell_type": "markdown",
      "source": [
        "It is composed of two parts, an **Encoder** and a **Decoder**. The goal of the Encoder is to \"compress\" the dataset, representing its features with a number of nodes/variables that is narrower than the output layer; the goal of the Decoder is to learn how to reproduce, from the central encoded layer, the initial input values. Autoencoder are thus meant to reproduce the input data on the other extreme as accurately as possible.\n",
        "\n",
        "At this point, you have the right to be puzzled. The first time I've read about this architecture, I was like \"Wait a minute, what's the point of all that?!\". And in fact, it's completely pointless. But reproducing the same dataset on the other side of the Network is a trick that allows for a dimensionality reduction.\n",
        "\n",
        "The fact that the central hidden layers is narrower than the extremes forces the network to find the most efficient way to represent, at that layer, the same data in a more compressed form. The data that flow through that central layer can be seen as a form of dimensionality reduction."
      ]
    },
    {
      "metadata": {
        "id": "KMWIJUSerRVD",
        "colab_type": "text"
      },
      "cell_type": "markdown",
      "source": [
        "## 2. Why would you need Autoencoders?\n",
        "\n",
        "Why would you need dimensionality reduction?\n",
        "\n",
        "As you have probably learned from PCA, dimensionality reduction techniques are particularly useful when dealing with very complex and/or multicollinear datasets. Thanks to the \"simplification\" they perform, it is also possible to train Machine Learnign models on datasets otherwise too big for your run-down old laptop (joking).\n",
        "\n",
        "### Ok, but why not good old PCA?\n",
        "\n",
        "The advantages of this kind of Neural Network architecture over the more classical PCA is that with an Autoencoder you can potentially capture any non-linear pattern of your data. From PCA instead, you can extract factors that are only linearly associated with your actual variables, making the process of dimensionality reduction much more \"rigid\"."
      ]
    },
    {
      "metadata": {
        "id": "eqK0oiaTsAQn",
        "colab_type": "text"
      },
      "cell_type": "markdown",
      "source": [
        "## 3. Implementation\n",
        "\n"
      ]
    },
    {
      "metadata": {
        "id": "-3rPWJBemIEb",
        "colab_type": "text"
      },
      "cell_type": "markdown",
      "source": [
        "### Import data from UCI ML repository\n",
        "\n",
        "The purpose of this dataset is to reduce the dimensionality of the breast cancer dataset. cases between **malignant** (**M**), and **benign** (**B**). Therefore, my classification network will have two output nodes."
      ]
    },
    {
      "metadata": {
        "id": "kOKrNBGSlz2t",
        "colab_type": "code",
        "colab": {}
      },
      "cell_type": "code",
      "source": [
        "import tensorflow as tf\n",
        "import pandas as pd\n",
        "import numpy as np\n",
        "import matplotlib.pyplot as plt\n",
        "\n",
        "\n",
        "df = pd.read_csv(\"https://archive.ics.uci.edu/ml/machine-learning-databases/breast-cancer-wisconsin/wdbc.data\", sep=\",\", header=None)"
      ],
      "execution_count": 0,
      "outputs": []
    },
    {
      "metadata": {
        "id": "HTXgNVxD2VYp",
        "colab_type": "text"
      },
      "cell_type": "markdown",
      "source": [
        "### Dataprep\n",
        "\n",
        "Data preprocessing for Autoencoder require less effort than canonical Neural Networks. First, there is no need to split the data in train and test set, since my goal is just to produce a compressed version of the same dataset. Second, data do not require any labeling; we are in the field of unsupervised Machine Learning."
      ]
    },
    {
      "metadata": {
        "id": "anj7e1keqC-K",
        "colab_type": "code",
        "outputId": "bec2f761-bdbb-4a5f-9538-5c78de0052ff",
        "colab": {
          "base_uri": "https://localhost:8080/",
          "height": 235
        }
      },
      "cell_type": "code",
      "source": [
        "df.head()"
      ],
      "execution_count": 0,
      "outputs": [
        {
          "output_type": "execute_result",
          "data": {
            "text/html": [
              "<div>\n",
              "<style scoped>\n",
              "    .dataframe tbody tr th:only-of-type {\n",
              "        vertical-align: middle;\n",
              "    }\n",
              "\n",
              "    .dataframe tbody tr th {\n",
              "        vertical-align: top;\n",
              "    }\n",
              "\n",
              "    .dataframe thead th {\n",
              "        text-align: right;\n",
              "    }\n",
              "</style>\n",
              "<table border=\"1\" class=\"dataframe\">\n",
              "  <thead>\n",
              "    <tr style=\"text-align: right;\">\n",
              "      <th></th>\n",
              "      <th>0</th>\n",
              "      <th>1</th>\n",
              "      <th>2</th>\n",
              "      <th>3</th>\n",
              "      <th>4</th>\n",
              "      <th>5</th>\n",
              "      <th>6</th>\n",
              "      <th>7</th>\n",
              "      <th>8</th>\n",
              "      <th>9</th>\n",
              "      <th>...</th>\n",
              "      <th>22</th>\n",
              "      <th>23</th>\n",
              "      <th>24</th>\n",
              "      <th>25</th>\n",
              "      <th>26</th>\n",
              "      <th>27</th>\n",
              "      <th>28</th>\n",
              "      <th>29</th>\n",
              "      <th>30</th>\n",
              "      <th>31</th>\n",
              "    </tr>\n",
              "  </thead>\n",
              "  <tbody>\n",
              "    <tr>\n",
              "      <th>0</th>\n",
              "      <td>842302</td>\n",
              "      <td>M</td>\n",
              "      <td>17.99</td>\n",
              "      <td>10.38</td>\n",
              "      <td>122.80</td>\n",
              "      <td>1001.0</td>\n",
              "      <td>0.11840</td>\n",
              "      <td>0.27760</td>\n",
              "      <td>0.3001</td>\n",
              "      <td>0.14710</td>\n",
              "      <td>...</td>\n",
              "      <td>25.38</td>\n",
              "      <td>17.33</td>\n",
              "      <td>184.60</td>\n",
              "      <td>2019.0</td>\n",
              "      <td>0.1622</td>\n",
              "      <td>0.6656</td>\n",
              "      <td>0.7119</td>\n",
              "      <td>0.2654</td>\n",
              "      <td>0.4601</td>\n",
              "      <td>0.11890</td>\n",
              "    </tr>\n",
              "    <tr>\n",
              "      <th>1</th>\n",
              "      <td>842517</td>\n",
              "      <td>M</td>\n",
              "      <td>20.57</td>\n",
              "      <td>17.77</td>\n",
              "      <td>132.90</td>\n",
              "      <td>1326.0</td>\n",
              "      <td>0.08474</td>\n",
              "      <td>0.07864</td>\n",
              "      <td>0.0869</td>\n",
              "      <td>0.07017</td>\n",
              "      <td>...</td>\n",
              "      <td>24.99</td>\n",
              "      <td>23.41</td>\n",
              "      <td>158.80</td>\n",
              "      <td>1956.0</td>\n",
              "      <td>0.1238</td>\n",
              "      <td>0.1866</td>\n",
              "      <td>0.2416</td>\n",
              "      <td>0.1860</td>\n",
              "      <td>0.2750</td>\n",
              "      <td>0.08902</td>\n",
              "    </tr>\n",
              "    <tr>\n",
              "      <th>2</th>\n",
              "      <td>84300903</td>\n",
              "      <td>M</td>\n",
              "      <td>19.69</td>\n",
              "      <td>21.25</td>\n",
              "      <td>130.00</td>\n",
              "      <td>1203.0</td>\n",
              "      <td>0.10960</td>\n",
              "      <td>0.15990</td>\n",
              "      <td>0.1974</td>\n",
              "      <td>0.12790</td>\n",
              "      <td>...</td>\n",
              "      <td>23.57</td>\n",
              "      <td>25.53</td>\n",
              "      <td>152.50</td>\n",
              "      <td>1709.0</td>\n",
              "      <td>0.1444</td>\n",
              "      <td>0.4245</td>\n",
              "      <td>0.4504</td>\n",
              "      <td>0.2430</td>\n",
              "      <td>0.3613</td>\n",
              "      <td>0.08758</td>\n",
              "    </tr>\n",
              "    <tr>\n",
              "      <th>3</th>\n",
              "      <td>84348301</td>\n",
              "      <td>M</td>\n",
              "      <td>11.42</td>\n",
              "      <td>20.38</td>\n",
              "      <td>77.58</td>\n",
              "      <td>386.1</td>\n",
              "      <td>0.14250</td>\n",
              "      <td>0.28390</td>\n",
              "      <td>0.2414</td>\n",
              "      <td>0.10520</td>\n",
              "      <td>...</td>\n",
              "      <td>14.91</td>\n",
              "      <td>26.50</td>\n",
              "      <td>98.87</td>\n",
              "      <td>567.7</td>\n",
              "      <td>0.2098</td>\n",
              "      <td>0.8663</td>\n",
              "      <td>0.6869</td>\n",
              "      <td>0.2575</td>\n",
              "      <td>0.6638</td>\n",
              "      <td>0.17300</td>\n",
              "    </tr>\n",
              "    <tr>\n",
              "      <th>4</th>\n",
              "      <td>84358402</td>\n",
              "      <td>M</td>\n",
              "      <td>20.29</td>\n",
              "      <td>14.34</td>\n",
              "      <td>135.10</td>\n",
              "      <td>1297.0</td>\n",
              "      <td>0.10030</td>\n",
              "      <td>0.13280</td>\n",
              "      <td>0.1980</td>\n",
              "      <td>0.10430</td>\n",
              "      <td>...</td>\n",
              "      <td>22.54</td>\n",
              "      <td>16.67</td>\n",
              "      <td>152.20</td>\n",
              "      <td>1575.0</td>\n",
              "      <td>0.1374</td>\n",
              "      <td>0.2050</td>\n",
              "      <td>0.4000</td>\n",
              "      <td>0.1625</td>\n",
              "      <td>0.2364</td>\n",
              "      <td>0.07678</td>\n",
              "    </tr>\n",
              "  </tbody>\n",
              "</table>\n",
              "<p>5 rows × 32 columns</p>\n",
              "</div>"
            ],
            "text/plain": [
              "         0  1      2      3       4       5        6        7       8   \\\n",
              "0    842302  M  17.99  10.38  122.80  1001.0  0.11840  0.27760  0.3001   \n",
              "1    842517  M  20.57  17.77  132.90  1326.0  0.08474  0.07864  0.0869   \n",
              "2  84300903  M  19.69  21.25  130.00  1203.0  0.10960  0.15990  0.1974   \n",
              "3  84348301  M  11.42  20.38   77.58   386.1  0.14250  0.28390  0.2414   \n",
              "4  84358402  M  20.29  14.34  135.10  1297.0  0.10030  0.13280  0.1980   \n",
              "\n",
              "        9    ...        22     23      24      25      26      27      28  \\\n",
              "0  0.14710   ...     25.38  17.33  184.60  2019.0  0.1622  0.6656  0.7119   \n",
              "1  0.07017   ...     24.99  23.41  158.80  1956.0  0.1238  0.1866  0.2416   \n",
              "2  0.12790   ...     23.57  25.53  152.50  1709.0  0.1444  0.4245  0.4504   \n",
              "3  0.10520   ...     14.91  26.50   98.87   567.7  0.2098  0.8663  0.6869   \n",
              "4  0.10430   ...     22.54  16.67  152.20  1575.0  0.1374  0.2050  0.4000   \n",
              "\n",
              "       29      30       31  \n",
              "0  0.2654  0.4601  0.11890  \n",
              "1  0.1860  0.2750  0.08902  \n",
              "2  0.2430  0.3613  0.08758  \n",
              "3  0.2575  0.6638  0.17300  \n",
              "4  0.1625  0.2364  0.07678  \n",
              "\n",
              "[5 rows x 32 columns]"
            ]
          },
          "metadata": {
            "tags": []
          },
          "execution_count": 2
        }
      ]
    },
    {
      "metadata": {
        "id": "R1NPnVJRbUbe",
        "colab_type": "code",
        "colab": {}
      },
      "cell_type": "code",
      "source": [
        "# I don't need the first two columns:\n",
        "# the first is an id, the other is the target variable ('M'/'B')\n",
        "df = df.iloc[:,2:]\n",
        "\n",
        "# Turn the dataframe into a numpy object\n",
        "df = df.values\n"
      ],
      "execution_count": 0,
      "outputs": []
    },
    {
      "metadata": {
        "id": "8MZswZsz2POl",
        "colab_type": "code",
        "colab": {}
      },
      "cell_type": "code",
      "source": [
        "# Normalize the data - this time there is no need to use sklearn's StandardScaler() but you can use it if you want\n",
        "def normalize(x):\n",
        "    normalized = (x - np.mean(x))/(np.std(x))\n",
        "    return normalized\n",
        "\n",
        "for i in range(df.shape[1]):\n",
        "    df[:,i] = normalize(df[:,i])"
      ],
      "execution_count": 0,
      "outputs": []
    },
    {
      "metadata": {
        "id": "Ibv0OMUj7sdH",
        "colab_type": "text"
      },
      "cell_type": "markdown",
      "source": [
        "### Architecture\n",
        "\n",
        "Given the shape of my dataframe:"
      ]
    },
    {
      "metadata": {
        "id": "Ac14zUWt-tGG",
        "colab_type": "code",
        "outputId": "008f1378-74d7-40c0-b6a5-dc6342fcd757",
        "colab": {
          "base_uri": "https://localhost:8080/",
          "height": 35
        }
      },
      "cell_type": "code",
      "source": [
        "df.shape"
      ],
      "execution_count": 0,
      "outputs": [
        {
          "output_type": "execute_result",
          "data": {
            "text/plain": [
              "(569, 30)"
            ]
          },
          "metadata": {
            "tags": []
          },
          "execution_count": 5
        }
      ]
    },
    {
      "metadata": {
        "id": "J-cA8x_D-6bo",
        "colab_type": "text"
      },
      "cell_type": "markdown",
      "source": [
        "I must now choose an Autoencoder architecture. I want to compress a `(569, 30)` shaped dataset to a `(569, 10)` encoded version. This is an arbitrary choice. In real datascience problems the chioce depends from the nature of your specific dataset (and your specific needs), there is no general rule to determine the right number of encoded variables to be obtained.\n"
      ]
    },
    {
      "metadata": {
        "id": "qus4X_4XH0V8",
        "colab_type": "code",
        "colab": {}
      },
      "cell_type": "code",
      "source": [
        "# I choose the size of each layer\n",
        "\n",
        "n_input_layer = df.shape[1]\n",
        "n_hidden1 = 30\n",
        "n_hidden2 = 15\n",
        "n_hidden3 = 15\n",
        "\n",
        "n_encoding_layer = 10\n",
        "\n",
        "n_hidden5 = 15\n",
        "n_hidden6 = 15\n",
        "n_hidden7 = 30\n",
        "n_output_layer = n_input_layer  # of course, the output layer must be of the same size of the input layer"
      ],
      "execution_count": 0,
      "outputs": []
    },
    {
      "metadata": {
        "id": "ITiY0308HcuD",
        "colab_type": "text"
      },
      "cell_type": "markdown",
      "source": [
        "As you can see, the architecture of the Network si perfectly symmetric. Of course, Encoder and Decoder don't need to be the exact mirror image of each other.\n",
        "\n",
        "First, I must create *one* placeholder to feed the data in:"
      ]
    },
    {
      "metadata": {
        "id": "aX8aKmFF7k4Y",
        "colab_type": "code",
        "colab": {}
      },
      "cell_type": "code",
      "source": [
        "# Placeholders are kind of \"empty variables\" in a TF computational graph.\n",
        "# I will feed the actual data through them - in the graph, they are like entry doors for my data\n",
        "\n",
        "X = tf.placeholder(tf.float32, shape = [None, df.shape[1]], name='X')"
      ],
      "execution_count": 0,
      "outputs": []
    },
    {
      "metadata": {
        "id": "kF4aiNkw8cYq",
        "colab_type": "text"
      },
      "cell_type": "markdown",
      "source": [
        "This time we don't need placeholder y, since prediction and classification are off topic here. Our model doesn't require any dependent variable to be explained."
      ]
    },
    {
      "metadata": {
        "id": "kcOyYg3Q8OZY",
        "colab_type": "code",
        "colab": {}
      },
      "cell_type": "code",
      "source": [
        "from tensorflow.contrib.layers import fully_connected  # import the layers' function\n",
        "\n",
        "\n",
        "\n",
        "Input_layer = fully_connected(X, n_input_layer, activation_fn=tf.nn.leaky_relu, scope=\"input_layer\")\n",
        "\n",
        "hidden1 = fully_connected(Input_layer, n_hidden1, activation_fn=tf.nn.leaky_relu, scope=\"hidden_layer1\")\n",
        "\n",
        "hidden2 = fully_connected(hidden1, n_hidden2, activation_fn=tf.nn.leaky_relu, scope=\"hidden_layer2\")\n",
        "\n",
        "hidden3 = fully_connected(hidden2, n_hidden3, activation_fn=tf.nn.leaky_relu, scope=\"hidden_layer3\")\n",
        "\n",
        "\n",
        "# This is the central layer of the Autoencoder\n",
        "Encoding_layer = fully_connected(hidden3, n_encoding_layer, activation_fn=tf.nn.leaky_relu, scope=\"encoding_layer\")\n",
        "\n",
        "\n",
        "hidden5 = fully_connected(Encoding_layer, n_hidden5, activation_fn=tf.nn.leaky_relu, scope=\"hidden_layer5\")\n",
        "\n",
        "hidden6 = fully_connected(hidden5, n_hidden6, activation_fn=tf.nn.leaky_relu, scope=\"hidden_layer6\")\n",
        "\n",
        "hidden7 = fully_connected(hidden6, n_hidden7, activation_fn=tf.nn.leaky_relu, scope=\"hidden_layer7\")\n",
        "\n",
        "Output_layer = fully_connected(hidden7, n_output_layer, activation_fn=tf.nn.leaky_relu, scope=\"output_layer\")\n"
      ],
      "execution_count": 0,
      "outputs": []
    },
    {
      "metadata": {
        "id": "HrgXlzQMWzek",
        "colab_type": "text"
      },
      "cell_type": "markdown",
      "source": [
        "Now that the Network's structure is ready, let me define other hyperparameters:"
      ]
    },
    {
      "metadata": {
        "id": "X6iFujQiXZwR",
        "colab_type": "code",
        "colab": {}
      },
      "cell_type": "code",
      "source": [
        "# set number of epochs\n",
        "n_epochs = 5000\n",
        "\n",
        "# set learning rate\n",
        "learning_rate = 0.001"
      ],
      "execution_count": 0,
      "outputs": []
    },
    {
      "metadata": {
        "id": "8xMVYavgX3x6",
        "colab_type": "text"
      },
      "cell_type": "markdown",
      "source": [
        "The implementation of the loss function deserves attention.\n",
        "\n",
        "As I already explained above, the implementation of an Autoencoder doesn't require a dependent variable (nor its specific placeholder). For this reason, our loss function will not contain any \"y\". We only need to train the Autoencoder to behave as such, that is, to replicate the input data at the output layer. It's almost like comparing the initial dataset with a copy of itself.\n"
      ]
    },
    {
      "metadata": {
        "id": "LBq-IZ7eXr-p",
        "colab_type": "code",
        "colab": {}
      },
      "cell_type": "code",
      "source": [
        "# implement Mean Squared Error\n",
        "loss = tf.reduce_mean(tf.square(X - Output_layer))"
      ],
      "execution_count": 0,
      "outputs": []
    },
    {
      "metadata": {
        "id": "Q_PcewQSapyD",
        "colab_type": "code",
        "colab": {}
      },
      "cell_type": "code",
      "source": [
        "# Define the TensorFlow operation that trains the model\n",
        "training_op = tf.train.AdamOptimizer(learning_rate).minimize(loss)"
      ],
      "execution_count": 0,
      "outputs": []
    },
    {
      "metadata": {
        "id": "1KiGUWCol-uG",
        "colab_type": "text"
      },
      "cell_type": "markdown",
      "source": [
        "### Training"
      ]
    },
    {
      "metadata": {
        "id": "4kuZB-jWmNuA",
        "colab_type": "code",
        "colab": {}
      },
      "cell_type": "code",
      "source": [
        "saver = tf.train.Saver()   # set a saver for saving the model at checkpoints"
      ],
      "execution_count": 0,
      "outputs": []
    },
    {
      "metadata": {
        "id": "Oevz4mHWmCKs",
        "colab_type": "code",
        "outputId": "0e0cedfe-d45f-4a1d-cc35-78086e7efe47",
        "colab": {
          "base_uri": "https://localhost:8080/",
          "height": 968
        }
      },
      "cell_type": "code",
      "source": [
        "loss_history = []    # I want to monitor the loss through time\n",
        "\n",
        "with tf.Session() as sess:\n",
        "    \n",
        "    sess.run(tf.global_variables_initializer())   # turns on the machine\n",
        "    \n",
        "    \n",
        "    for epoch in range(n_epochs):\n",
        "        \n",
        "        sess.run(training_op, feed_dict={X: df})    # we have only X to feed, that is the dataset that we want to compress.\n",
        "        \n",
        "        current_loss = sess.run(loss, feed_dict={X: df})  # store the loss at each iteration\n",
        "        loss_history.append(current_loss)\n",
        "        \n",
        "        # Print the status of our Gradient Descent every 100 epochs\n",
        "        if epoch % 100 == 0:\n",
        "            print(str(epoch+1) + \". Loss: \" + str(current_loss) + \",\")\n",
        "    \n",
        "    # At the end of the training, you can save the model if you want\n",
        "    save_path = saver.save(sess, \"./autoencoder_1.ckpt\")\n",
        "    \n",
        "    # In this case, I want to use it right away, therefore I immediately save the encoded version of my\n",
        "    # It is done by taking the compress data from the central layer\n",
        "    encoded_dataframe = Encoding_layer.eval(feed_dict={X: df})   # the .eval argument is another way of getting the value of a tensor at some node\n",
        "    \n",
        "    print()\n",
        "    print(\"Encoding complete.\")\n"
      ],
      "execution_count": 0,
      "outputs": [
        {
          "output_type": "stream",
          "text": [
            "1. Loss: 0.99262094,\n",
            "101. Loss: 0.41691995,\n",
            "201. Loss: 0.3260689,\n",
            "301. Loss: 0.27633584,\n",
            "401. Loss: 0.2104583,\n",
            "501. Loss: 0.17014599,\n",
            "601. Loss: 0.14291686,\n",
            "701. Loss: 0.12853236,\n",
            "801. Loss: 0.119778134,\n",
            "901. Loss: 0.110465385,\n",
            "1001. Loss: 0.0985637,\n",
            "1101. Loss: 0.090854734,\n",
            "1201. Loss: 0.086306006,\n",
            "1301. Loss: 0.08299174,\n",
            "1401. Loss: 0.08068939,\n",
            "1501. Loss: 0.07875693,\n",
            "1601. Loss: 0.07702099,\n",
            "1701. Loss: 0.07558731,\n",
            "1801. Loss: 0.074517354,\n",
            "1901. Loss: 0.07346491,\n",
            "2001. Loss: 0.07234934,\n",
            "2101. Loss: 0.07148471,\n",
            "2201. Loss: 0.07074828,\n",
            "2301. Loss: 0.06996434,\n",
            "2401. Loss: 0.06903634,\n",
            "2501. Loss: 0.068289794,\n",
            "2601. Loss: 0.067636795,\n",
            "2701. Loss: 0.06687024,\n",
            "2801. Loss: 0.065924644,\n",
            "2901. Loss: 0.065062016,\n",
            "3001. Loss: 0.06418239,\n",
            "3101. Loss: 0.06324721,\n",
            "3201. Loss: 0.06251593,\n",
            "3301. Loss: 0.061682336,\n",
            "3401. Loss: 0.060844626,\n",
            "3501. Loss: 0.06006871,\n",
            "3601. Loss: 0.059311606,\n",
            "3701. Loss: 0.05862759,\n",
            "3801. Loss: 0.0579947,\n",
            "3901. Loss: 0.057262428,\n",
            "4001. Loss: 0.056626443,\n",
            "4101. Loss: 0.05609803,\n",
            "4201. Loss: 0.0556319,\n",
            "4301. Loss: 0.055313542,\n",
            "4401. Loss: 0.054779306,\n",
            "4501. Loss: 0.05464718,\n",
            "4601. Loss: 0.053952657,\n",
            "4701. Loss: 0.053646643,\n",
            "4801. Loss: 0.05324493,\n",
            "4901. Loss: 0.052860137,\n",
            "\n",
            "Encoding complete.\n"
          ],
          "name": "stdout"
        }
      ]
    },
    {
      "metadata": {
        "id": "p2f1s2U2mpqK",
        "colab_type": "code",
        "outputId": "6c996b63-ca02-47f7-a2f5-32d034773300",
        "colab": {
          "base_uri": "https://localhost:8080/",
          "height": 362
        }
      },
      "cell_type": "code",
      "source": [
        "plt.plot(loss_history, label=\"MSE\")\n",
        "plt.title(\"Autoencoder's loss through the epochs\")\n",
        "plt.legend()\n",
        "plt.show()"
      ],
      "execution_count": 0,
      "outputs": [
        {
          "output_type": "display_data",
          "data": {
            "image/png": "[encoded data removed]",
            "text/plain": [
              "<Figure size 576x396 with 1 Axes>"
            ]
          },
          "metadata": {
            "tags": []
          }
        }
      ]
    },
    {
      "metadata": {
        "id": "mEDmoV4dfSD4",
        "colab_type": "text"
      },
      "cell_type": "markdown",
      "source": [
        "## Applications\n",
        "\n",
        "Now that we have an encoded version of our initial dataset, we can use it for our Machine Learning task.\n",
        "\n",
        "The encoded dataset is stored into a numpy array called `encoded_dataframe`, that we can turn into a pandas DataFrame:"
      ]
    },
    {
      "metadata": {
        "id": "xvUvSvQEgAV2",
        "colab_type": "code",
        "outputId": "263a8924-800c-4e58-d80c-17b15e347430",
        "colab": {
          "base_uri": "https://localhost:8080/",
          "height": 300
        }
      },
      "cell_type": "code",
      "source": [
        "# You can save it in a pandas dataframe\n",
        "encoded_pandas_dataframe = pd.DataFrame(encoded_dataframe)\n",
        "\n",
        "# Let's take a look:\n",
        "encoded_pandas_dataframe.describe()"
      ],
      "execution_count": 0,
      "outputs": [
        {
          "output_type": "execute_result",
          "data": {
            "text/html": [
              "<div>\n",
              "<style scoped>\n",
              "    .dataframe tbody tr th:only-of-type {\n",
              "        vertical-align: middle;\n",
              "    }\n",
              "\n",
              "    .dataframe tbody tr th {\n",
              "        vertical-align: top;\n",
              "    }\n",
              "\n",
              "    .dataframe thead th {\n",
              "        text-align: right;\n",
              "    }\n",
              "</style>\n",
              "<table border=\"1\" class=\"dataframe\">\n",
              "  <thead>\n",
              "    <tr style=\"text-align: right;\">\n",
              "      <th></th>\n",
              "      <th>0</th>\n",
              "      <th>1</th>\n",
              "      <th>2</th>\n",
              "      <th>3</th>\n",
              "      <th>4</th>\n",
              "      <th>5</th>\n",
              "      <th>6</th>\n",
              "      <th>7</th>\n",
              "      <th>8</th>\n",
              "      <th>9</th>\n",
              "    </tr>\n",
              "  </thead>\n",
              "  <tbody>\n",
              "    <tr>\n",
              "      <th>count</th>\n",
              "      <td>569.000000</td>\n",
              "      <td>569.000000</td>\n",
              "      <td>569.000000</td>\n",
              "      <td>569.000000</td>\n",
              "      <td>569.000000</td>\n",
              "      <td>569.000000</td>\n",
              "      <td>569.000000</td>\n",
              "      <td>569.000000</td>\n",
              "      <td>569.000000</td>\n",
              "      <td>569.000000</td>\n",
              "    </tr>\n",
              "    <tr>\n",
              "      <th>mean</th>\n",
              "      <td>5.950812</td>\n",
              "      <td>16.487156</td>\n",
              "      <td>7.728285</td>\n",
              "      <td>3.261057</td>\n",
              "      <td>6.443383</td>\n",
              "      <td>5.501568</td>\n",
              "      <td>11.683473</td>\n",
              "      <td>3.548657</td>\n",
              "      <td>6.374877</td>\n",
              "      <td>10.508931</td>\n",
              "    </tr>\n",
              "    <tr>\n",
              "      <th>std</th>\n",
              "      <td>6.478880</td>\n",
              "      <td>10.128191</td>\n",
              "      <td>4.617937</td>\n",
              "      <td>2.953408</td>\n",
              "      <td>6.955463</td>\n",
              "      <td>4.555366</td>\n",
              "      <td>8.673910</td>\n",
              "      <td>4.639213</td>\n",
              "      <td>4.217002</td>\n",
              "      <td>9.891843</td>\n",
              "    </tr>\n",
              "    <tr>\n",
              "      <th>min</th>\n",
              "      <td>-0.106495</td>\n",
              "      <td>0.565276</td>\n",
              "      <td>-0.185673</td>\n",
              "      <td>-1.971750</td>\n",
              "      <td>-0.214498</td>\n",
              "      <td>-0.894893</td>\n",
              "      <td>-1.230408</td>\n",
              "      <td>-5.819337</td>\n",
              "      <td>-0.267922</td>\n",
              "      <td>-2.185170</td>\n",
              "    </tr>\n",
              "    <tr>\n",
              "      <th>25%</th>\n",
              "      <td>1.837411</td>\n",
              "      <td>8.317730</td>\n",
              "      <td>4.729818</td>\n",
              "      <td>0.815832</td>\n",
              "      <td>1.876604</td>\n",
              "      <td>2.501072</td>\n",
              "      <td>4.820455</td>\n",
              "      <td>-0.615608</td>\n",
              "      <td>3.747824</td>\n",
              "      <td>-0.008073</td>\n",
              "    </tr>\n",
              "    <tr>\n",
              "      <th>50%</th>\n",
              "      <td>3.444600</td>\n",
              "      <td>14.563843</td>\n",
              "      <td>7.041510</td>\n",
              "      <td>2.875292</td>\n",
              "      <td>3.979146</td>\n",
              "      <td>4.546839</td>\n",
              "      <td>9.438953</td>\n",
              "      <td>3.218110</td>\n",
              "      <td>5.604097</td>\n",
              "      <td>10.139227</td>\n",
              "    </tr>\n",
              "    <tr>\n",
              "      <th>75%</th>\n",
              "      <td>8.072370</td>\n",
              "      <td>22.776043</td>\n",
              "      <td>9.779955</td>\n",
              "      <td>5.282134</td>\n",
              "      <td>8.848096</td>\n",
              "      <td>7.434040</td>\n",
              "      <td>17.366352</td>\n",
              "      <td>7.063730</td>\n",
              "      <td>8.010862</td>\n",
              "      <td>18.109919</td>\n",
              "    </tr>\n",
              "    <tr>\n",
              "      <th>max</th>\n",
              "      <td>38.690048</td>\n",
              "      <td>53.922176</td>\n",
              "      <td>47.080498</td>\n",
              "      <td>15.525367</td>\n",
              "      <td>39.998653</td>\n",
              "      <td>40.229443</td>\n",
              "      <td>40.605808</td>\n",
              "      <td>18.224545</td>\n",
              "      <td>45.316860</td>\n",
              "      <td>40.703217</td>\n",
              "    </tr>\n",
              "  </tbody>\n",
              "</table>\n",
              "</div>"
            ],
            "text/plain": [
              "                0           1           2           3           4           5  \\\n",
              "count  569.000000  569.000000  569.000000  569.000000  569.000000  569.000000   \n",
              "mean     5.950812   16.487156    7.728285    3.261057    6.443383    5.501568   \n",
              "std      6.478880   10.128191    4.617937    2.953408    6.955463    4.555366   \n",
              "min     -0.106495    0.565276   -0.185673   -1.971750   -0.214498   -0.894893   \n",
              "25%      1.837411    8.317730    4.729818    0.815832    1.876604    2.501072   \n",
              "50%      3.444600   14.563843    7.041510    2.875292    3.979146    4.546839   \n",
              "75%      8.072370   22.776043    9.779955    5.282134    8.848096    7.434040   \n",
              "max     38.690048   53.922176   47.080498   15.525367   39.998653   40.229443   \n",
              "\n",
              "                6           7           8           9  \n",
              "count  569.000000  569.000000  569.000000  569.000000  \n",
              "mean    11.683473    3.548657    6.374877   10.508931  \n",
              "std      8.673910    4.639213    4.217002    9.891843  \n",
              "min     -1.230408   -5.819337   -0.267922   -2.185170  \n",
              "25%      4.820455   -0.615608    3.747824   -0.008073  \n",
              "50%      9.438953    3.218110    5.604097   10.139227  \n",
              "75%     17.366352    7.063730    8.010862   18.109919  \n",
              "max     40.605808   18.224545   45.316860   40.703217  "
            ]
          },
          "metadata": {
            "tags": []
          },
          "execution_count": 15
        }
      ]
    },
    {
      "metadata": {
        "id": "gFYL7l26fahk",
        "colab_type": "text"
      },
      "cell_type": "markdown",
      "source": [
        "At this point, you can train any Machine Learning model on the encoded dataframe (for example, [some feed-forward Neural Network](https://github.com/IvanBongiorni/TensorFlow_Tutorial/blob/master/TensorFlow_1_Classification_BatchGD.ipynb), as I explained in previous tutorials, or [the Mini-Batch Gradient Descent version of it](https://github.com/IvanBongiorni/TensorFlow_Tutorial/blob/master/TensorFlow_2_Classification_MiniBatchGD.ipynb), why not).\n",
        "\n",
        "You'll find that computational times will be much slower, and with very similar results. In case of very multicollinear datasets, you might even find a significant improvement in your model performance.\n"
      ]
    }
  ]
}